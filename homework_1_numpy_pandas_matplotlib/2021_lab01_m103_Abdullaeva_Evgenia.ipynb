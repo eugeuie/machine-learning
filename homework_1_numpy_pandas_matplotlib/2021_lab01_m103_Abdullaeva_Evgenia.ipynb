{
 "cells": [
  {
   "cell_type": "markdown",
   "source": [
    "# Lab #1. Numpy, Pandas and Matplotlib\r\n",
    "\r\n",
    "### Important: do not delete any blocks\r\n",
    "#### But you may add as many as you need.\r\n",
    "\r\n",
    "This aim of this lab is to get you aquainted to very important python modules (libraries):\r\n",
    "- numpy\r\n",
    "- pandas\r\n",
    "- matplotlib\r\n",
    "\r\n",
    "Make sure to install these modules before you start.\r\n",
    "\r\n",
    "#### About tasks\r\n",
    "\r\n",
    "This notebook consists of numerous tasks but please make it look like a whole story: a report with your own code, thoughts and conclusions. In some of these tasks you will have to implement some custom functions, in some of them you will be asked to present some plots and describe them. Please try to make your code as short as possible and your answers as clear as possible.\r\n",
    "\r\n",
    "\r\n",
    "\r\n",
    "#### Evaluation\r\n",
    "\r\n",
    "- Each task has its value, **15 points** in total. If you use some open-source code please make sure to include the url. \r\n",
    "- There are **Questions** in the tasks, don't skip them. If you skip a question, value of the task becomes 0. \r\n",
    "- When your answer includes some numbers, make sure to provide some code or calculations that prove your results.\r\n",
    "- Pay a lot attention to your plots:\r\n",
    "    - Are they comprehensible? Shapes, colours, sizes?\r\n",
    "    - Are they titled?\r\n",
    "    - Are axes labelled?\r\n",
    "    - Is legend included?\r\n",
    "\r\n",
    "#### How to submit\r\n",
    "- Name your file according to this convention: `2021_lab01_GroupNumber_Surname_Name.ipynb`, for example \r\n",
    "    - `2021_lab01_404_Sheipak_Sviat.ipynb`\r\n",
    "    - `2021_lab01_NoGroup_Sheipak_Sviat.ipynb`\r\n",
    "- Attach your .ipynb to an email with topic `2021_lab01_GroupNumber_Surname_Name.ipynb`\r\n",
    "- Send it to `cosmic.research.ml@yandex.ru`\r\n",
    "- Deadline is `2021-09-29 23:00:00 +03:00`\r\n",
    "\r\n",
    "#### The Data:\r\n",
    "- All the datasets you need are here: https://disk.yandex.ru/d/Y9kRkFcH8lOb9w"
   ],
   "metadata": {}
  },
  {
   "cell_type": "markdown",
   "source": [
    "## Part 1. Numpy and plots [2.5 points]\r\n",
    "\r\n",
    "`numpy` is a module that helps you to deal with vectors (matrices and tensors too) and it has a lot of cool features."
   ],
   "metadata": {}
  },
  {
   "cell_type": "markdown",
   "source": [
    "Firstly, let's import it:"
   ],
   "metadata": {}
  },
  {
   "cell_type": "code",
   "execution_count": 285,
   "source": [
    "import numpy as np"
   ],
   "outputs": [],
   "metadata": {}
  },
  {
   "cell_type": "markdown",
   "source": [
    "Vectors in numpy are called **arrays**. Create an array from a list:"
   ],
   "metadata": {}
  },
  {
   "cell_type": "code",
   "execution_count": 286,
   "source": [
    "my_list = [1, 2, 3, 4, 5, 6]\r\n",
    "my_vector = np.array(my_list)\r\n",
    "print(my_list)\r\n",
    "print(my_vector)"
   ],
   "outputs": [
    {
     "output_type": "stream",
     "name": "stdout",
     "text": [
      "[1, 2, 3, 4, 5, 6]\n",
      "[1 2 3 4 5 6]\n"
     ]
    }
   ],
   "metadata": {}
  },
  {
   "cell_type": "markdown",
   "source": [
    "You can reshape them:"
   ],
   "metadata": {}
  },
  {
   "cell_type": "code",
   "execution_count": 287,
   "source": [
    "my_vector = my_vector.reshape((2, 3))\r\n",
    "print(my_vector.shape)\r\n",
    "print(my_vector)\r\n",
    "\r\n",
    "my_vector = my_vector.reshape((6, 1))\r\n",
    "print(my_vector.shape)\r\n",
    "print(my_vector)"
   ],
   "outputs": [
    {
     "output_type": "stream",
     "name": "stdout",
     "text": [
      "(2, 3)\n",
      "[[1 2 3]\n",
      " [4 5 6]]\n",
      "(6, 1)\n",
      "[[1]\n",
      " [2]\n",
      " [3]\n",
      " [4]\n",
      " [5]\n",
      " [6]]\n"
     ]
    }
   ],
   "metadata": {}
  },
  {
   "cell_type": "markdown",
   "source": [
    "You don't even have to state all of dimensions explicitly, since they can be derived (use -1):"
   ],
   "metadata": {}
  },
  {
   "cell_type": "code",
   "execution_count": 288,
   "source": [
    "my_vector = my_vector.reshape((3, -1))\r\n",
    "print(my_vector.shape)\r\n",
    "print(my_vector)"
   ],
   "outputs": [
    {
     "output_type": "stream",
     "name": "stdout",
     "text": [
      "(3, 2)\n",
      "[[1 2]\n",
      " [3 4]\n",
      " [5 6]]\n"
     ]
    }
   ],
   "metadata": {}
  },
  {
   "cell_type": "markdown",
   "source": [
    "Slices!"
   ],
   "metadata": {}
  },
  {
   "cell_type": "code",
   "execution_count": 289,
   "source": [
    "print(my_vector[0, 1])\r\n",
    "print(my_vector[:, 1])\r\n",
    "print(my_vector[:2])\r\n",
    "print(my_vector[:2,::-1])"
   ],
   "outputs": [
    {
     "output_type": "stream",
     "name": "stdout",
     "text": [
      "2\n",
      "[2 4 6]\n",
      "[[1 2]\n",
      " [3 4]]\n",
      "[[2 1]\n",
      " [4 3]]\n"
     ]
    }
   ],
   "metadata": {}
  },
  {
   "cell_type": "markdown",
   "source": [
    "A slice object is constructed by `start:stop:step` notation inside of brackets (from [NumPy API reference](https://numpy.org/doc/stable/reference/arrays.indexing.html#basic-slicing-and-indexing)).\r\n"
   ],
   "metadata": {}
  },
  {
   "cell_type": "markdown",
   "source": [
    "Arithmetic operations:"
   ],
   "metadata": {}
  },
  {
   "cell_type": "code",
   "execution_count": 290,
   "source": [
    "vector_a = np.arange(10)\r\n",
    "print(vector_a)\r\n",
    "print(vector_a - 10)\r\n",
    "print(vector_a * 100)\r\n",
    "print(np.array([5, 4]) + np.array([1, 6]))\r\n",
    "print(np.array([5, 4]) * np.array([1, 6]))"
   ],
   "outputs": [
    {
     "output_type": "stream",
     "name": "stdout",
     "text": [
      "[0 1 2 3 4 5 6 7 8 9]\n",
      "[-10  -9  -8  -7  -6  -5  -4  -3  -2  -1]\n",
      "[  0 100 200 300 400 500 600 700 800 900]\n",
      "[ 6 10]\n",
      "[ 5 24]\n"
     ]
    }
   ],
   "metadata": {}
  },
  {
   "cell_type": "markdown",
   "source": [
    "**Task 1. Basic arrays [0.5 point]** \r\n",
    "\r\n",
    "Create a 2-dimensional numpy array `x` of 100 by 2 shape filled with random numbers from $U[0, 1]$."
   ],
   "metadata": {}
  },
  {
   "cell_type": "code",
   "execution_count": 291,
   "source": [
    "x = np.random.uniform(0, 1, (100, 2))\r\n",
    "\r\n",
    "assert x.shape == (100, 2), \"Wrong shape\"\r\n",
    "assert x.min() >= 0 and x.max() <= 1, \"Wrong range\"\r\n",
    "assert np.abs(x.mean() - 0.5) < 8e-2, \"Wrong distribution or bad luck\"\r\n",
    "x.mean()"
   ],
   "outputs": [
    {
     "output_type": "execute_result",
     "data": {
      "text/plain": [
       "0.5174909946957831"
      ]
     },
     "metadata": {},
     "execution_count": 291
    }
   ],
   "metadata": {}
  },
  {
   "cell_type": "markdown",
   "source": [
    "Now `x` is 2-dimensional numpy array of 100 by 2 shape filled with random numbers from $U[0, 1]$. $U[0, 1]$ is continuous uniform distribution, where 0 and 1 are minimum and maximum values."
   ],
   "metadata": {}
  },
  {
   "cell_type": "markdown",
   "source": [
    "Calculate averages: row-wise, column-wise and total. Use `np.mean` and `axis` parameter. Then `print` the `mean_total` rounded to 3 digits after comma (using `format` method)."
   ],
   "metadata": {}
  },
  {
   "cell_type": "code",
   "execution_count": 292,
   "source": [
    "mean_by_row = x.mean(axis=1)\r\n",
    "mean_by_col = x.mean(axis=0)\r\n",
    "mean_total = x.mean()\r\n",
    "\r\n",
    "assert mean_by_row.shape == (100, )\r\n",
    "assert mean_by_col.shape == (2, )\r\n",
    "assert mean_total.shape == ()\r\n",
    "\r\n",
    "print(\"The total mean is {:.3f}\".format(mean_total))"
   ],
   "outputs": [
    {
     "output_type": "stream",
     "name": "stdout",
     "text": [
      "The total mean is 0.517\n"
     ]
    }
   ],
   "metadata": {}
  },
  {
   "cell_type": "markdown",
   "source": [
    "Row-wise, column-wise and total averages are calculated. Then total average rounded to 3 digits after comma is printed."
   ],
   "metadata": {}
  },
  {
   "cell_type": "markdown",
   "source": [
    "**Task 2. Sort 2-dim array [0.5 point]** \r\n",
    "\r\n",
    "Create a 1-dimensional numpy array `y` of 100 random **integers** from $U\\{0, 1, 2, 3\\}$."
   ],
   "metadata": {}
  },
  {
   "cell_type": "code",
   "execution_count": 293,
   "source": [
    "y = np.random.randint(0, 4, 100)\r\n",
    "\r\n",
    "assert y.shape == (100,)"
   ],
   "outputs": [],
   "metadata": {}
  },
  {
   "cell_type": "markdown",
   "source": [
    "Now `y` is 1-dimensional numpy array of 100 random uniformly distributed integers from $\\{0,1,2,3\\}$ set."
   ],
   "metadata": {}
  },
  {
   "cell_type": "markdown",
   "source": [
    "Import class `Counter` from `collections` module."
   ],
   "metadata": {}
  },
  {
   "cell_type": "code",
   "execution_count": 294,
   "source": [
    "from collections import Counter"
   ],
   "outputs": [],
   "metadata": {}
  },
  {
   "cell_type": "code",
   "execution_count": 295,
   "source": [
    "basic_counter = Counter(y)\r\n",
    "container_A = dict(basic_counter)\r\n",
    "container_B = list(basic_counter.items())\r\n",
    "container_C = np.array(container_B)"
   ],
   "outputs": [],
   "metadata": {}
  },
  {
   "cell_type": "code",
   "execution_count": 296,
   "source": [
    "print(container_A, container_B, container_C)"
   ],
   "outputs": [
    {
     "output_type": "stream",
     "name": "stdout",
     "text": [
      "{1: 25, 3: 22, 2: 27, 0: 26} [(1, 25), (3, 22), (2, 27), (0, 26)] [[ 1 25]\n",
      " [ 3 22]\n",
      " [ 2 27]\n",
      " [ 0 26]]\n"
     ]
    }
   ],
   "metadata": {}
  },
  {
   "cell_type": "markdown",
   "source": [
    "Here are three data structures.\n",
    "\n",
    "**Question:** What is the type of `container_A`? What is the type of `container_B`? What is the type of the elements of `container_C`?"
   ],
   "metadata": {}
  },
  {
   "cell_type": "code",
   "execution_count": 297,
   "source": [
    "print(type(container_A), type(container_B), type(container_C[0]))"
   ],
   "outputs": [
    {
     "output_type": "stream",
     "name": "stdout",
     "text": [
      "<class 'dict'> <class 'list'> <class 'numpy.ndarray'>\n"
     ]
    }
   ],
   "metadata": {}
  },
  {
   "cell_type": "markdown",
   "source": [
    "**Your answer:**\r\n",
    "\r\n",
    "The type of `container_A` is dictionary, the type of `container_B` is list, the type of the elements of `container_C` is numpy array."
   ],
   "metadata": {}
  },
  {
   "cell_type": "markdown",
   "source": [
    "Use `np.sort` to order elements of `container_C` ascending by their first coordinate (pay attention to `axis` parameter)."
   ],
   "metadata": {}
  },
  {
   "cell_type": "code",
   "execution_count": 298,
   "source": [
    "counter_values = np.sort(container_C.view([('', container_C.dtype)] * container_C.shape[1]), axis=0, order=['f0']).view(np.int32)\r\n",
    "\r\n",
    "assert list(counter_values[:, 0]) == [0, 1, 2, 3], \"Error: Wrong order\"\r\n",
    "assert min([container_A[x[0]] == x[1] for x in counter_values]), \"Error: Count values shuffled\"\r\n",
    "print(\"Great!\")"
   ],
   "outputs": [
    {
     "output_type": "stream",
     "name": "stdout",
     "text": [
      "Great!\n"
     ]
    }
   ],
   "metadata": {}
  },
  {
   "cell_type": "markdown",
   "source": [
    "Now elements of `container_C` are sorted ascending by their first coordinate. But I'm not happy with the way `np.sort` is applied here. If you know a shorter or prettier way to do this sorting with `np.sort`, please tell me. I only know how to make it shorter, but using `np.argsort`:"
   ],
   "metadata": {}
  },
  {
   "cell_type": "code",
   "execution_count": 299,
   "source": [
    "a = np.random.randint(0, 100, (4, 2))\r\n",
    "print('Unsorted array:', a, sep='\\n')\r\n",
    "a = a[a[:, 0].argsort()]\r\n",
    "print('Array sorted by first coordinate:', a, sep='\\n')"
   ],
   "outputs": [
    {
     "output_type": "stream",
     "name": "stdout",
     "text": [
      "Unsorted array:\n",
      "[[76 93]\n",
      " [21 47]\n",
      " [55  1]\n",
      " [76 34]]\n",
      "Array sorted by first coordinate:\n",
      "[[21 47]\n",
      " [55  1]\n",
      " [76 93]\n",
      " [76 34]]\n"
     ]
    }
   ],
   "metadata": {}
  },
  {
   "cell_type": "markdown",
   "source": [
    "**Task 3. Basic barplot [0.5 points]** \r\n",
    "\r\n",
    "Plot a barplot representing how many times each value `0, 1, 2, 3` is encountered in `y`. Do not forget to:\r\n",
    "- Add title to the plot\r\n",
    "- Label the axes\r\n",
    "- Specify x-ticks \r\n",
    "\r\n",
    "You may use `counter_values` you have obtained in a Task 2."
   ],
   "metadata": {}
  },
  {
   "cell_type": "code",
   "execution_count": 300,
   "source": [
    "import matplotlib.pyplot as plt"
   ],
   "outputs": [],
   "metadata": {}
  },
  {
   "cell_type": "code",
   "execution_count": 301,
   "source": [
    "plt.title(\"Value counts in $y$\")\r\n",
    "plt.bar(counter_values[:, 0], counter_values[:, 1])\r\n",
    "plt.xticks(counter_values[:, 0])\r\n",
    "plt.xlabel(\"Value\")\r\n",
    "plt.ylabel(\"Count\")\r\n",
    "plt.grid(10)\r\n",
    "plt.show()"
   ],
   "outputs": [
    {
     "output_type": "display_data",
     "data": {
      "image/png": "[encoded data removed]",
      "text/plain": [
       "<Figure size 432x288 with 1 Axes>"
      ]
     },
     "metadata": {
      "needs_background": "light"
     }
    }
   ],
   "metadata": {}
  },
  {
   "cell_type": "markdown",
   "source": [
    "Now we can see a barplot representing how many times each value `0, 1, 2, 3` is encountered in `y`."
   ],
   "metadata": {}
  },
  {
   "cell_type": "markdown",
   "source": [
    "**Task 4. Concat two numpy arrays [0.5 point]**\n",
    "\n",
    "You have:\n",
    "- `x`: 100 $\\times$ 2\n",
    "- `y`: 100\n",
    "\n",
    "Concatenate them horizontally to get `z`: 100 $\\times$ 3"
   ],
   "metadata": {}
  },
  {
   "cell_type": "code",
   "execution_count": 302,
   "source": [
    "z = np.concatenate((x, y.reshape(100, 1)), axis=1)\r\n",
    "\r\n",
    "assert z.shape == (100, 3) and np.equal(z[:, :2], x).all() and np.equal(z[:, -1], y).all()"
   ],
   "outputs": [],
   "metadata": {}
  },
  {
   "cell_type": "markdown",
   "source": [
    "Now `x` and `y` are concatenated and we have `z` of 100 by 3 shape."
   ],
   "metadata": {}
  },
  {
   "cell_type": "markdown",
   "source": [
    "**Task 5. Basic Scatter Plot [0.5 point]**\r\n",
    "\r\n",
    "You have:\r\n",
    "- `z`: 100 $\\times$ 3\r\n",
    "\r\n",
    "Each row of `z` consists of 3 numbers. Build a scatter plot where each row is represented by a dot: first and second number are coordinates and third number corresponds to dot colour. Don't forget to add a legend."
   ],
   "metadata": {}
  },
  {
   "cell_type": "code",
   "execution_count": 303,
   "source": [
    "plt.figure(figsize=(8, 6))\r\n",
    "plt.title(\"Basic Scatter Plot\")\r\n",
    "scatter = plt.scatter(z[:, 0], z[:, 1], c=z[:, 2])\r\n",
    "\r\n",
    "plt.legend(handles=scatter.legend_elements()[0], labels=scatter.legend_elements()[1], loc=\"upper right\")\r\n",
    "plt.show()"
   ],
   "outputs": [
    {
     "output_type": "display_data",
     "data": {
      "image/png": "[encoded data removed]",
      "text/plain": [
       "<Figure size 576x432 with 1 Axes>"
      ]
     },
     "metadata": {
      "needs_background": "light"
     }
    }
   ],
   "metadata": {}
  },
  {
   "cell_type": "markdown",
   "source": [
    "Now we can see a scatter plot where each row is represented by a dot: first and second number are coordinates and third number corresponds to dot colour. A legend is also on a plot."
   ],
   "metadata": {}
  },
  {
   "cell_type": "markdown",
   "source": [
    "## Part 2. Moscow houses [4.5 points]\r\n",
    "\r\n",
    "In this part we start to work with datasets and `pandas` module.\r\n",
    "You will need to download `moscow_coords.csv` file. It provides a coordinate and an address for some houses in Moscow. The original source of the data: https://data.mos.ru/opendata/60562/data/table?versionNumber=3&releaseNumber=445"
   ],
   "metadata": {}
  },
  {
   "cell_type": "code",
   "execution_count": 304,
   "source": [
    "import pandas as pd"
   ],
   "outputs": [],
   "metadata": {}
  },
  {
   "cell_type": "code",
   "execution_count": 305,
   "source": [
    "coords_db = pd.read_csv(\"data/moscow_coords.csv\")"
   ],
   "outputs": [],
   "metadata": {}
  },
  {
   "cell_type": "code",
   "execution_count": 306,
   "source": [
    "coords_db.head(10)"
   ],
   "outputs": [
    {
     "output_type": "execute_result",
     "data": {
      "text/html": [
       "<div>\n",
       "<style scoped>\n",
       "    .dataframe tbody tr th:only-of-type {\n",
       "        vertical-align: middle;\n",
       "    }\n",
       "\n",
       "    .dataframe tbody tr th {\n",
       "        vertical-align: top;\n",
       "    }\n",
       "\n",
       "    .dataframe thead th {\n",
       "        text-align: right;\n",
       "    }\n",
       "</style>\n",
       "<table border=\"1\" class=\"dataframe\">\n",
       "  <thead>\n",
       "    <tr style=\"text-align: right;\">\n",
       "      <th></th>\n",
       "      <th>ADDRESS</th>\n",
       "      <th>coor_x</th>\n",
       "      <th>coor_y</th>\n",
       "    </tr>\n",
       "  </thead>\n",
       "  <tbody>\n",
       "    <tr>\n",
       "      <th>0</th>\n",
       "      <td>город Москва, Варшавское шоссе, дом 150, строе...</td>\n",
       "      <td>37.601252</td>\n",
       "      <td>55.599249</td>\n",
       "    </tr>\n",
       "    <tr>\n",
       "      <th>1</th>\n",
       "      <td>город Москва, Косинская улица, дом 26А</td>\n",
       "      <td>37.828115</td>\n",
       "      <td>55.717493</td>\n",
       "    </tr>\n",
       "    <tr>\n",
       "      <th>2</th>\n",
       "      <td>город Москва, Гороховский переулок, дом 21</td>\n",
       "      <td>37.668093</td>\n",
       "      <td>55.766224</td>\n",
       "    </tr>\n",
       "    <tr>\n",
       "      <th>3</th>\n",
       "      <td>город Москва, Тагильская улица, дом 4, строени...</td>\n",
       "      <td>37.752887</td>\n",
       "      <td>55.818257</td>\n",
       "    </tr>\n",
       "    <tr>\n",
       "      <th>4</th>\n",
       "      <td>город Москва, Ленинградский проспект, дом 73А,...</td>\n",
       "      <td>37.513546</td>\n",
       "      <td>55.803510</td>\n",
       "    </tr>\n",
       "    <tr>\n",
       "      <th>5</th>\n",
       "      <td>город Москва, улица Вострухина, дом 5А</td>\n",
       "      <td>37.797659</td>\n",
       "      <td>55.720022</td>\n",
       "    </tr>\n",
       "    <tr>\n",
       "      <th>6</th>\n",
       "      <td>город Москва, улица Космонавта Волкова, дом 10...</td>\n",
       "      <td>37.514713</td>\n",
       "      <td>55.815373</td>\n",
       "    </tr>\n",
       "    <tr>\n",
       "      <th>7</th>\n",
       "      <td>город Москва, Балтийская улица, дом 8, строени...</td>\n",
       "      <td>37.517288</td>\n",
       "      <td>55.809580</td>\n",
       "    </tr>\n",
       "    <tr>\n",
       "      <th>8</th>\n",
       "      <td>город Москва, улица Головачёва, дом 3, корпус 2</td>\n",
       "      <td>37.805437</td>\n",
       "      <td>55.675219</td>\n",
       "    </tr>\n",
       "    <tr>\n",
       "      <th>9</th>\n",
       "      <td>город Москва, Климентовский переулок, дом 1, с...</td>\n",
       "      <td>37.631972</td>\n",
       "      <td>55.740967</td>\n",
       "    </tr>\n",
       "  </tbody>\n",
       "</table>\n",
       "</div>"
      ],
      "text/plain": [
       "                                             ADDRESS     coor_x     coor_y\n",
       "0  город Москва, Варшавское шоссе, дом 150, строе...  37.601252  55.599249\n",
       "1             город Москва, Косинская улица, дом 26А  37.828115  55.717493\n",
       "2         город Москва, Гороховский переулок, дом 21  37.668093  55.766224\n",
       "3  город Москва, Тагильская улица, дом 4, строени...  37.752887  55.818257\n",
       "4  город Москва, Ленинградский проспект, дом 73А,...  37.513546  55.803510\n",
       "5             город Москва, улица Вострухина, дом 5А  37.797659  55.720022\n",
       "6  город Москва, улица Космонавта Волкова, дом 10...  37.514713  55.815373\n",
       "7  город Москва, Балтийская улица, дом 8, строени...  37.517288  55.809580\n",
       "8    город Москва, улица Головачёва, дом 3, корпус 2  37.805437  55.675219\n",
       "9  город Москва, Климентовский переулок, дом 1, с...  37.631972  55.740967"
      ]
     },
     "metadata": {},
     "execution_count": 306
    }
   ],
   "metadata": {
    "scrolled": true
   }
  },
  {
   "cell_type": "code",
   "execution_count": 307,
   "source": [
    "print(type(coords_db))\r\n",
    "print(coords_db.shape)\r\n",
    "print(coords_db.columns)\r\n",
    "print(type(coords_db[\"ADDRESS\"]))"
   ],
   "outputs": [
    {
     "output_type": "stream",
     "name": "stdout",
     "text": [
      "<class 'pandas.core.frame.DataFrame'>\n",
      "(406934, 3)\n",
      "Index(['ADDRESS', 'coor_x', 'coor_y'], dtype='object')\n",
      "<class 'pandas.core.series.Series'>\n"
     ]
    }
   ],
   "metadata": {
    "scrolled": true
   }
  },
  {
   "cell_type": "markdown",
   "source": [
    "**Task 1. Address analysis [0.5 point]**\n",
    "\n",
    "As we can see, the dataset has 3 columns: `ADDRESS`, `coor_x` and `coor_y`.\n",
    "Let's focus on `ADDRESS` - the datatype of this column is `str`.\n",
    "\n",
    "Your task is to find and describe addresses that inlcude word `город`* at least two times.\n",
    "\n",
    "**город* - *city* in russian"
   ],
   "metadata": {}
  },
  {
   "cell_type": "markdown",
   "source": [
    "Let's do it step by step:\r\n",
    "1. Implement a function `tokenize_address`, that takes a string\r\n",
    "\r\n",
    "* casts string to lowercase;\r\n",
    "    \r\n",
    "* removes all `,` and `.` symbols;\r\n",
    "    \r\n",
    "* splits string into a `list` of strings; separation symbol is a whitespace ` `.\r\n",
    "    \r\n",
    "2. Implement a function `count_a_token`, that takes a list of strings and counts number of entries of a particular token."
   ],
   "metadata": {}
  },
  {
   "cell_type": "code",
   "execution_count": 308,
   "source": [
    "import re\r\n",
    "\r\n",
    "def tokenize_address(input_string):\r\n",
    "    \"\"\"\r\n",
    "    input:\r\n",
    "    - input_string: str\r\n",
    "    output:\r\n",
    "    - list<str> - string split into tokens\r\n",
    "    \"\"\"\r\n",
    "    input_string = input_string.lower()\r\n",
    "    input_string = re.sub('\\,|\\.', '', input_string)\r\n",
    "    return input_string.split()\r\n",
    "\r\n",
    "assert tokenize_address(\"A, b. C, and d?\") == [\"a\", \"b\", \"c\", \"and\", \"d?\"], \"Something is wrong\""
   ],
   "outputs": [],
   "metadata": {}
  },
  {
   "cell_type": "markdown",
   "source": [
    "`tokenize_address` function is implemented."
   ],
   "metadata": {}
  },
  {
   "cell_type": "code",
   "execution_count": 309,
   "source": [
    "def count_a_token(token_list, lookup_token):\r\n",
    "    \"\"\"\r\n",
    "    input:\r\n",
    "    - token_list: list<str>\r\n",
    "    - lookup_token: str\r\n",
    "    output:\r\n",
    "    - int - how many times lookup_token is encountered in token_list\r\n",
    "    \"\"\"\r\n",
    "    return Counter(token_list)[lookup_token]"
   ],
   "outputs": [],
   "metadata": {}
  },
  {
   "cell_type": "markdown",
   "source": [
    "`count_a_token` function is implemented."
   ],
   "metadata": {}
  },
  {
   "cell_type": "code",
   "execution_count": 310,
   "source": [
    "test_address = \"город Москва, улица Космонавта Волкова, дом 10.\"\r\n",
    "tokens = tokenize_address(test_address)\r\n",
    "print(tokens)\r\n",
    "print(count_a_token(tokens, \"город\"))\r\n",
    "\r\n",
    "assert tokens == [\"город\", \"москва\", \"улица\", \"космонавта\", \"волкова\", \"дом\", \"10\"]\r\n",
    "assert count_a_token(tokens, \"город\") == 1\r\n",
    "print(\"Seems fine!\")"
   ],
   "outputs": [
    {
     "output_type": "stream",
     "name": "stdout",
     "text": [
      "['город', 'москва', 'улица', 'космонавта', 'волкова', 'дом', '10']\n",
      "1\n",
      "Seems fine!\n"
     ]
    }
   ],
   "metadata": {}
  },
  {
   "cell_type": "markdown",
   "source": [
    "Now it is time add new column `city_token_cnt` to the dataset. Values in this column should be a result of applying two functions above to a `coords_db[\"ADDRESS\"]`. Note that `coords_db[\"ADDRESS\"]` is a `pandas.Series` object and it has method `apply`."
   ],
   "metadata": {}
  },
  {
   "cell_type": "code",
   "execution_count": 311,
   "source": [
    "coords_db.loc[:, \"city_token_cnt\"] = coords_db[\"ADDRESS\"].apply(lambda x: count_a_token(tokenize_address(x), \"город\"))"
   ],
   "outputs": [],
   "metadata": {}
  },
  {
   "cell_type": "code",
   "execution_count": 312,
   "source": [
    "coords_db.head()"
   ],
   "outputs": [
    {
     "output_type": "execute_result",
     "data": {
      "text/html": [
       "<div>\n",
       "<style scoped>\n",
       "    .dataframe tbody tr th:only-of-type {\n",
       "        vertical-align: middle;\n",
       "    }\n",
       "\n",
       "    .dataframe tbody tr th {\n",
       "        vertical-align: top;\n",
       "    }\n",
       "\n",
       "    .dataframe thead th {\n",
       "        text-align: right;\n",
       "    }\n",
       "</style>\n",
       "<table border=\"1\" class=\"dataframe\">\n",
       "  <thead>\n",
       "    <tr style=\"text-align: right;\">\n",
       "      <th></th>\n",
       "      <th>ADDRESS</th>\n",
       "      <th>coor_x</th>\n",
       "      <th>coor_y</th>\n",
       "      <th>city_token_cnt</th>\n",
       "    </tr>\n",
       "  </thead>\n",
       "  <tbody>\n",
       "    <tr>\n",
       "      <th>0</th>\n",
       "      <td>город Москва, Варшавское шоссе, дом 150, строе...</td>\n",
       "      <td>37.601252</td>\n",
       "      <td>55.599249</td>\n",
       "      <td>1</td>\n",
       "    </tr>\n",
       "    <tr>\n",
       "      <th>1</th>\n",
       "      <td>город Москва, Косинская улица, дом 26А</td>\n",
       "      <td>37.828115</td>\n",
       "      <td>55.717493</td>\n",
       "      <td>1</td>\n",
       "    </tr>\n",
       "    <tr>\n",
       "      <th>2</th>\n",
       "      <td>город Москва, Гороховский переулок, дом 21</td>\n",
       "      <td>37.668093</td>\n",
       "      <td>55.766224</td>\n",
       "      <td>1</td>\n",
       "    </tr>\n",
       "    <tr>\n",
       "      <th>3</th>\n",
       "      <td>город Москва, Тагильская улица, дом 4, строени...</td>\n",
       "      <td>37.752887</td>\n",
       "      <td>55.818257</td>\n",
       "      <td>1</td>\n",
       "    </tr>\n",
       "    <tr>\n",
       "      <th>4</th>\n",
       "      <td>город Москва, Ленинградский проспект, дом 73А,...</td>\n",
       "      <td>37.513546</td>\n",
       "      <td>55.803510</td>\n",
       "      <td>1</td>\n",
       "    </tr>\n",
       "  </tbody>\n",
       "</table>\n",
       "</div>"
      ],
      "text/plain": [
       "                                             ADDRESS     coor_x     coor_y  \\\n",
       "0  город Москва, Варшавское шоссе, дом 150, строе...  37.601252  55.599249   \n",
       "1             город Москва, Косинская улица, дом 26А  37.828115  55.717493   \n",
       "2         город Москва, Гороховский переулок, дом 21  37.668093  55.766224   \n",
       "3  город Москва, Тагильская улица, дом 4, строени...  37.752887  55.818257   \n",
       "4  город Москва, Ленинградский проспект, дом 73А,...  37.513546  55.803510   \n",
       "\n",
       "   city_token_cnt  \n",
       "0               1  \n",
       "1               1  \n",
       "2               1  \n",
       "3               1  \n",
       "4               1  "
      ]
     },
     "metadata": {},
     "execution_count": 312
    }
   ],
   "metadata": {}
  },
  {
   "cell_type": "markdown",
   "source": [
    "And the final step: let's do a `groupby` by column `city_token_cnt` to find out how many addresses have token `город` two times or more."
   ],
   "metadata": {}
  },
  {
   "cell_type": "code",
   "execution_count": 313,
   "source": [
    "stats = coords_db.groupby('city_token_cnt', as_index=False).count()\r\n",
    "stats = stats[stats.city_token_cnt >= 2].iloc[:, :2]"
   ],
   "outputs": [],
   "metadata": {}
  },
  {
   "cell_type": "code",
   "execution_count": 314,
   "source": [
    "stats"
   ],
   "outputs": [
    {
     "output_type": "execute_result",
     "data": {
      "text/html": [
       "<div>\n",
       "<style scoped>\n",
       "    .dataframe tbody tr th:only-of-type {\n",
       "        vertical-align: middle;\n",
       "    }\n",
       "\n",
       "    .dataframe tbody tr th {\n",
       "        vertical-align: top;\n",
       "    }\n",
       "\n",
       "    .dataframe thead th {\n",
       "        text-align: right;\n",
       "    }\n",
       "</style>\n",
       "<table border=\"1\" class=\"dataframe\">\n",
       "  <thead>\n",
       "    <tr style=\"text-align: right;\">\n",
       "      <th></th>\n",
       "      <th>city_token_cnt</th>\n",
       "      <th>ADDRESS</th>\n",
       "    </tr>\n",
       "  </thead>\n",
       "  <tbody>\n",
       "    <tr>\n",
       "      <th>2</th>\n",
       "      <td>2</td>\n",
       "      <td>11083</td>\n",
       "    </tr>\n",
       "  </tbody>\n",
       "</table>\n",
       "</div>"
      ],
      "text/plain": [
       "   city_token_cnt  ADDRESS\n",
       "2               2    11083"
      ]
     },
     "metadata": {},
     "execution_count": 314
    }
   ],
   "metadata": {}
  },
  {
   "cell_type": "markdown",
   "source": [
    "**Question**: how many addresses have token `город` two times or more?"
   ],
   "metadata": {}
  },
  {
   "cell_type": "markdown",
   "source": [
    "**Your answer**: \r\n",
    "\r\n",
    "11083 addresses have token `город` two times."
   ],
   "metadata": {}
  },
  {
   "cell_type": "markdown",
   "source": [
    "**Task 2. Count 2-grams [1 point]**\r\n",
    "\r\n",
    "For a sequence of tokens `[\"a_1\", \"a_2\", ..., \"a_N\"]` **n-gram** is a subsequence of **n** consecutive tokens.\r\n",
    "\r\n",
    "For example: given a sequence of tokens `[\"a\", \"b\", \"c\", \"d\"]` it has:\r\n",
    "- Four unigrams: `[\"a\"], [\"b\"], [\"c\"], [\"d\"]`\r\n",
    "- Three 2-grams: `[\"a\", \"b\"], [\"b\", \"c\"], [\"c\", \"d\"]`\r\n",
    "- Two 3-grams: `[\"a\", \"b\", \"c\"], [\"b\", \"c\", \"d\"]`\r\n",
    "- One 4-gram: `[\"a\", \"b\", \"c\", \"d\"]`\r\n",
    "\r\n",
    "Your task is to find all 2-grams that start with `город` token and count their occurrences in all addresses."
   ],
   "metadata": {}
  },
  {
   "cell_type": "markdown",
   "source": [
    "Firstly, impement a function `get_n_grams`:"
   ],
   "metadata": {}
  },
  {
   "cell_type": "code",
   "execution_count": 315,
   "source": [
    "def get_n_grams(input_tokens, n):\r\n",
    "    \"\"\"\r\n",
    "    input:\r\n",
    "    - input_tokens: list<str>\r\n",
    "    - n: int, size of n-grams\r\n",
    "    output:\r\n",
    "    - list<list<str>> - list of n-grams\r\n",
    "    \"\"\"\r\n",
    "    return list(input_tokens[i:i+n] for i in range(len(input_tokens) - n + 1))"
   ],
   "outputs": [],
   "metadata": {}
  },
  {
   "cell_type": "markdown",
   "source": [
    "`get_n_grams` function is implemented."
   ],
   "metadata": {}
  },
  {
   "cell_type": "code",
   "execution_count": 316,
   "source": [
    "assert get_n_grams([\"a\", \"b\", \"c\", \"d\"], 1) ==  [['a'], ['b'], ['c'], ['d']]\r\n",
    "assert get_n_grams([\"a\", \"b\", \"c\", \"d\"], 2) ==  [['a', 'b'], ['b', 'c'], ['c', 'd']]\r\n",
    "assert get_n_grams([\"a\", \"b\", \"c\", \"d\"], 3) ==  [['a', 'b', 'c'], ['b', 'c', 'd']]\r\n",
    "assert get_n_grams([\"a\", \"b\", \"c\", \"d\"], 4) ==  [['a', 'b', 'c', 'd']]\r\n",
    "\r\n",
    "print(\"OK, seems fine!\")"
   ],
   "outputs": [
    {
     "output_type": "stream",
     "name": "stdout",
     "text": [
      "OK, seems fine!\n"
     ]
    }
   ],
   "metadata": {}
  },
  {
   "cell_type": "markdown",
   "source": [
    "Secondly, define a function that will filter list of n-grams by the first element of an n-gram:"
   ],
   "metadata": {}
  },
  {
   "cell_type": "code",
   "execution_count": 317,
   "source": [
    "def filter_n_grams(n_grams, lookup_token):\r\n",
    "    \"\"\"\r\n",
    "    input:\r\n",
    "    - n_grams: list<list<str>>\r\n",
    "    - lookup_token: str\r\n",
    "    output:\r\n",
    "    - list<list<str>> - sublist of n-grams first token of which is equal to lookup_token\r\n",
    "    \"\"\"\r\n",
    "    return list(filter(lambda x: x[0] == lookup_token, n_grams))"
   ],
   "outputs": [],
   "metadata": {}
  },
  {
   "cell_type": "markdown",
   "source": [
    "`filter_n_grams` function is implemented."
   ],
   "metadata": {}
  },
  {
   "cell_type": "code",
   "execution_count": 318,
   "source": [
    "assert filter_n_grams([\r\n",
    "    [\"a\", \"b\"], \r\n",
    "    [\"a\", \"c\"],\r\n",
    "    [\"b\", \"d\"],\r\n",
    "    [\"d\", \"a\"]\r\n",
    "    ], \r\n",
    "    \"a\") == [[\"a\", \"b\"], [\"a\", \"c\"]]\r\n",
    "\r\n",
    "print(\"Seems fine!\")"
   ],
   "outputs": [
    {
     "output_type": "stream",
     "name": "stdout",
     "text": [
      "Seems fine!\n"
     ]
    }
   ],
   "metadata": {}
  },
  {
   "cell_type": "markdown",
   "source": [
    "Back to our dataset. Leave rows with `city_token_cnt >= 2`"
   ],
   "metadata": {}
  },
  {
   "cell_type": "code",
   "execution_count": 319,
   "source": [
    "coords_db.head()"
   ],
   "outputs": [
    {
     "output_type": "execute_result",
     "data": {
      "text/html": [
       "<div>\n",
       "<style scoped>\n",
       "    .dataframe tbody tr th:only-of-type {\n",
       "        vertical-align: middle;\n",
       "    }\n",
       "\n",
       "    .dataframe tbody tr th {\n",
       "        vertical-align: top;\n",
       "    }\n",
       "\n",
       "    .dataframe thead th {\n",
       "        text-align: right;\n",
       "    }\n",
       "</style>\n",
       "<table border=\"1\" class=\"dataframe\">\n",
       "  <thead>\n",
       "    <tr style=\"text-align: right;\">\n",
       "      <th></th>\n",
       "      <th>ADDRESS</th>\n",
       "      <th>coor_x</th>\n",
       "      <th>coor_y</th>\n",
       "      <th>city_token_cnt</th>\n",
       "    </tr>\n",
       "  </thead>\n",
       "  <tbody>\n",
       "    <tr>\n",
       "      <th>0</th>\n",
       "      <td>город Москва, Варшавское шоссе, дом 150, строе...</td>\n",
       "      <td>37.601252</td>\n",
       "      <td>55.599249</td>\n",
       "      <td>1</td>\n",
       "    </tr>\n",
       "    <tr>\n",
       "      <th>1</th>\n",
       "      <td>город Москва, Косинская улица, дом 26А</td>\n",
       "      <td>37.828115</td>\n",
       "      <td>55.717493</td>\n",
       "      <td>1</td>\n",
       "    </tr>\n",
       "    <tr>\n",
       "      <th>2</th>\n",
       "      <td>город Москва, Гороховский переулок, дом 21</td>\n",
       "      <td>37.668093</td>\n",
       "      <td>55.766224</td>\n",
       "      <td>1</td>\n",
       "    </tr>\n",
       "    <tr>\n",
       "      <th>3</th>\n",
       "      <td>город Москва, Тагильская улица, дом 4, строени...</td>\n",
       "      <td>37.752887</td>\n",
       "      <td>55.818257</td>\n",
       "      <td>1</td>\n",
       "    </tr>\n",
       "    <tr>\n",
       "      <th>4</th>\n",
       "      <td>город Москва, Ленинградский проспект, дом 73А,...</td>\n",
       "      <td>37.513546</td>\n",
       "      <td>55.803510</td>\n",
       "      <td>1</td>\n",
       "    </tr>\n",
       "  </tbody>\n",
       "</table>\n",
       "</div>"
      ],
      "text/plain": [
       "                                             ADDRESS     coor_x     coor_y  \\\n",
       "0  город Москва, Варшавское шоссе, дом 150, строе...  37.601252  55.599249   \n",
       "1             город Москва, Косинская улица, дом 26А  37.828115  55.717493   \n",
       "2         город Москва, Гороховский переулок, дом 21  37.668093  55.766224   \n",
       "3  город Москва, Тагильская улица, дом 4, строени...  37.752887  55.818257   \n",
       "4  город Москва, Ленинградский проспект, дом 73А,...  37.513546  55.803510   \n",
       "\n",
       "   city_token_cnt  \n",
       "0               1  \n",
       "1               1  \n",
       "2               1  \n",
       "3               1  \n",
       "4               1  "
      ]
     },
     "metadata": {},
     "execution_count": 319
    }
   ],
   "metadata": {}
  },
  {
   "cell_type": "code",
   "execution_count": 320,
   "source": [
    "sub_db = coords_db[coords_db.city_token_cnt >= 2]\r\n",
    "print(sub_db.shape)\r\n",
    "sub_db.head(5)"
   ],
   "outputs": [
    {
     "output_type": "stream",
     "name": "stdout",
     "text": [
      "(11083, 4)\n"
     ]
    },
    {
     "output_type": "execute_result",
     "data": {
      "text/html": [
       "<div>\n",
       "<style scoped>\n",
       "    .dataframe tbody tr th:only-of-type {\n",
       "        vertical-align: middle;\n",
       "    }\n",
       "\n",
       "    .dataframe tbody tr th {\n",
       "        vertical-align: top;\n",
       "    }\n",
       "\n",
       "    .dataframe thead th {\n",
       "        text-align: right;\n",
       "    }\n",
       "</style>\n",
       "<table border=\"1\" class=\"dataframe\">\n",
       "  <thead>\n",
       "    <tr style=\"text-align: right;\">\n",
       "      <th></th>\n",
       "      <th>ADDRESS</th>\n",
       "      <th>coor_x</th>\n",
       "      <th>coor_y</th>\n",
       "      <th>city_token_cnt</th>\n",
       "    </tr>\n",
       "  </thead>\n",
       "  <tbody>\n",
       "    <tr>\n",
       "      <th>40</th>\n",
       "      <td>город Москва, город Зеленоград, корпус 1212</td>\n",
       "      <td>37.193861</td>\n",
       "      <td>55.992106</td>\n",
       "      <td>2</td>\n",
       "    </tr>\n",
       "    <tr>\n",
       "      <th>193</th>\n",
       "      <td>город Москва, город Зеленоград, корпус 1459</td>\n",
       "      <td>37.162394</td>\n",
       "      <td>55.984514</td>\n",
       "      <td>2</td>\n",
       "    </tr>\n",
       "    <tr>\n",
       "      <th>220</th>\n",
       "      <td>город Москва, город Зеленоград, корпус 1215</td>\n",
       "      <td>37.190049</td>\n",
       "      <td>55.994432</td>\n",
       "      <td>2</td>\n",
       "    </tr>\n",
       "    <tr>\n",
       "      <th>282</th>\n",
       "      <td>город Москва, город Зеленоград, корпус 1110</td>\n",
       "      <td>37.188728</td>\n",
       "      <td>55.999289</td>\n",
       "      <td>2</td>\n",
       "    </tr>\n",
       "    <tr>\n",
       "      <th>363</th>\n",
       "      <td>город Москва, город Зеленоград, корпус 115</td>\n",
       "      <td>37.204655</td>\n",
       "      <td>56.008116</td>\n",
       "      <td>2</td>\n",
       "    </tr>\n",
       "  </tbody>\n",
       "</table>\n",
       "</div>"
      ],
      "text/plain": [
       "                                         ADDRESS     coor_x     coor_y  \\\n",
       "40   город Москва, город Зеленоград, корпус 1212  37.193861  55.992106   \n",
       "193  город Москва, город Зеленоград, корпус 1459  37.162394  55.984514   \n",
       "220  город Москва, город Зеленоград, корпус 1215  37.190049  55.994432   \n",
       "282  город Москва, город Зеленоград, корпус 1110  37.188728  55.999289   \n",
       "363   город Москва, город Зеленоград, корпус 115  37.204655  56.008116   \n",
       "\n",
       "     city_token_cnt  \n",
       "40                2  \n",
       "193               2  \n",
       "220               2  \n",
       "282               2  \n",
       "363               2  "
      ]
     },
     "metadata": {},
     "execution_count": 320
    }
   ],
   "metadata": {}
  },
  {
   "cell_type": "markdown",
   "source": [
    "Let's build a dict that contains counts of 2-grams: \r\n",
    "```\r\n",
    "{\r\n",
    "    \"город x\": cnt_x,\r\n",
    "    \"город y\": cnt_y,\r\n",
    "     ...\r\n",
    "    \"город N\": cnt_N\r\n",
    "      \r\n",
    "}\r\n",
    "```\r\n",
    "Note that key is a string `\"город x\"`, not a list `[\"город\", \"x\"]` - list cannot be a key in a dict."
   ],
   "metadata": {}
  },
  {
   "cell_type": "code",
   "execution_count": 321,
   "source": [
    "counter_dict = {}\r\n",
    "for address in sub_db[\"ADDRESS\"]:\r\n",
    "    tokens = tokenize_address(address)\r\n",
    "    n_grams = get_n_grams(tokens, 2)\r\n",
    "    filtered_n_grams = filter_n_grams(n_grams, 'город')\r\n",
    "    for x in filtered_n_grams:\r\n",
    "        key = ' '.join(x)\r\n",
    "        counter_dict[key] = 1 if key not in counter_dict else counter_dict[key] + 1"
   ],
   "outputs": [],
   "metadata": {}
  },
  {
   "cell_type": "code",
   "execution_count": 322,
   "source": [
    "counter_dict"
   ],
   "outputs": [
    {
     "output_type": "execute_result",
     "data": {
      "text/plain": [
       "{'город москва': 11083,\n",
       " 'город зеленоград': 3579,\n",
       " 'город московский': 1351,\n",
       " 'город троицк': 4193,\n",
       " 'город щербинка': 1959,\n",
       " 'город зеленогра': 1}"
      ]
     },
     "metadata": {},
     "execution_count": 322
    }
   ],
   "metadata": {
    "scrolled": true
   }
  },
  {
   "cell_type": "markdown",
   "source": [
    "The last key is not a mistake, `moscow_coords.csv` dataset includes a row with `Зеленогра` word in `ADDRESS` column:"
   ],
   "metadata": {}
  },
  {
   "cell_type": "code",
   "execution_count": 323,
   "source": [
    "coords_db[coords_db['ADDRESS'].str.contains('Зеленогра,')]"
   ],
   "outputs": [
    {
     "output_type": "execute_result",
     "data": {
      "text/html": [
       "<div>\n",
       "<style scoped>\n",
       "    .dataframe tbody tr th:only-of-type {\n",
       "        vertical-align: middle;\n",
       "    }\n",
       "\n",
       "    .dataframe tbody tr th {\n",
       "        vertical-align: top;\n",
       "    }\n",
       "\n",
       "    .dataframe thead th {\n",
       "        text-align: right;\n",
       "    }\n",
       "</style>\n",
       "<table border=\"1\" class=\"dataframe\">\n",
       "  <thead>\n",
       "    <tr style=\"text-align: right;\">\n",
       "      <th></th>\n",
       "      <th>ADDRESS</th>\n",
       "      <th>coor_x</th>\n",
       "      <th>coor_y</th>\n",
       "      <th>city_token_cnt</th>\n",
       "    </tr>\n",
       "  </thead>\n",
       "  <tbody>\n",
       "    <tr>\n",
       "      <th>174809</th>\n",
       "      <td>город Москва, город Зеленогра, посёлок Назарье...</td>\n",
       "      <td>37.256639</td>\n",
       "      <td>55.971083</td>\n",
       "      <td>2</td>\n",
       "    </tr>\n",
       "  </tbody>\n",
       "</table>\n",
       "</div>"
      ],
      "text/plain": [
       "                                                  ADDRESS     coor_x  \\\n",
       "174809  город Москва, город Зеленогра, посёлок Назарье...  37.256639   \n",
       "\n",
       "           coor_y  city_token_cnt  \n",
       "174809  55.971083               2  "
      ]
     },
     "metadata": {},
     "execution_count": 323
    }
   ],
   "metadata": {}
  },
  {
   "cell_type": "markdown",
   "source": [
    "**Task 3. Garden Ring houses scatterplot [1 points]**\r\n",
    "\r\n",
    "We need to find houses that are located near the Garden Ring. There can be a lot of definitions of *near* - but in our case *near* means inside a polygon. Inner and outer polygon points can be found in files: `inner_poly.csv` and `outer_poly.csv` respectively."
   ],
   "metadata": {}
  },
  {
   "cell_type": "code",
   "execution_count": 324,
   "source": [
    "inner_poly = pd.read_csv(\"data/inner_poly.csv\", header=None).values\r\n",
    "outer_poly = pd.read_csv(\"data/outer_poly.csv\", header=None).values\r\n",
    "house_points = coords_db[[\"coor_x\", \"coor_y\"]].values"
   ],
   "outputs": [],
   "metadata": {}
  },
  {
   "cell_type": "markdown",
   "source": [
    "Let's scatter plot the points:"
   ],
   "metadata": {}
  },
  {
   "cell_type": "code",
   "execution_count": 325,
   "source": [
    "plt.figure(figsize=(8, 8))\r\n",
    "plt.title(\"Moscow Houses\")\r\n",
    "plt.scatter(house_points[:, 0], house_points[:, 1], linewidths=0.001, c=\"grey\")\r\n",
    "plt.scatter(inner_poly[:, 0], inner_poly[:, 1], linewidths=0.005, c=\"b\")\r\n",
    "plt.scatter(outer_poly[:, 0], outer_poly[:, 1], linewidths=0.005, c=\"r\")\r\n",
    "plt.show()"
   ],
   "outputs": [
    {
     "output_type": "display_data",
     "data": {
      "image/png": "[encoded data removed]",
      "text/plain": [
       "<Figure size 576x576 with 1 Axes>"
      ]
     },
     "metadata": {
      "needs_background": "light"
     }
    }
   ],
   "metadata": {}
  },
  {
   "cell_type": "markdown",
   "source": [
    "Ooooops seems a bit wrong. \n",
    "\n",
    "**Question**: why does the plot look so strange? How to fix it?"
   ],
   "metadata": {}
  },
  {
   "cell_type": "markdown",
   "source": [
    "**Your answer:**\r\n",
    "\r\n",
    "The plot looks so strange because the source data contain outliers close to the point with coordinates (0, 0). It can be fixed by removing the outliers."
   ],
   "metadata": {}
  },
  {
   "cell_type": "markdown",
   "source": [
    "Now fix the `house_points` array, remove a set of points in the bottom left corner:"
   ],
   "metadata": {}
  },
  {
   "cell_type": "code",
   "execution_count": 326,
   "source": [
    "house_points = house_points[(house_points[:, 0] > 35) & (house_points[:, 1] > 50)]"
   ],
   "outputs": [],
   "metadata": {}
  },
  {
   "cell_type": "markdown",
   "source": [
    "And scatter it again:"
   ],
   "metadata": {}
  },
  {
   "cell_type": "code",
   "execution_count": 327,
   "source": [
    "plt.figure(figsize=(8, 8))\r\n",
    "plt.title(\"Moscow Houses\")\r\n",
    "plt.scatter(house_points[:, 0], house_points[:, 1], linewidths=0.001, c=\"grey\")\r\n",
    "plt.scatter(inner_poly[:, 0], inner_poly[:, 1], linewidths=0.005, c=\"b\")\r\n",
    "plt.scatter(outer_poly[:, 0], outer_poly[:, 1], linewidths=0.005, c=\"r\")\r\n",
    "plt.show()"
   ],
   "outputs": [
    {
     "output_type": "display_data",
     "data": {
      "image/png": "[encoded data removed]",
      "text/plain": [
       "<Figure size 576x576 with 1 Axes>"
      ]
     },
     "metadata": {
      "needs_background": "light"
     }
    }
   ],
   "metadata": {}
  },
  {
   "cell_type": "markdown",
   "source": [
    "Let's do a little zoom-in: filter `house_points` and leave points in some **small square** near the garden ring. The choice of the size of the square is up to you, but the outer poly should be inside this square.\n",
    "\n",
    "I have already defined a small square, but you can change its sizes."
   ],
   "metadata": {}
  },
  {
   "cell_type": "code",
   "execution_count": 328,
   "source": [
    "lower_x = 37.56\r\n",
    "upper_x = 37.68\r\n",
    "lower_y = 55.70\r\n",
    "upper_y = 55.80\r\n",
    "\r\n",
    "def filter_points_by_square(input_array, lower_x, upper_x, lower_y, upper_y):\r\n",
    "    return input_array[\r\n",
    "        (input_array[:, 0] > lower_x) & \r\n",
    "        (input_array[:, 0] < upper_x) & \r\n",
    "        (input_array[:, 1] > lower_y) & \r\n",
    "        (input_array[:, 1] < upper_y)\r\n",
    "    ]"
   ],
   "outputs": [],
   "metadata": {}
  },
  {
   "cell_type": "code",
   "execution_count": 329,
   "source": [
    "small_square_points = filter_points_by_square(house_points, lower_x, upper_x, lower_y, upper_y)"
   ],
   "outputs": [],
   "metadata": {}
  },
  {
   "cell_type": "code",
   "execution_count": 330,
   "source": [
    "plt.figure(figsize=(8, 8))\r\n",
    "plt.title(\"Houses in city center\")\r\n",
    "plt.scatter(small_square_points[:, 0], small_square_points[:, 1], linewidths=0.001, c=\"grey\")\r\n",
    "plt.scatter(inner_poly[:, 0], inner_poly[:, 1], linewidths=0.005, c=\"b\")\r\n",
    "plt.scatter(outer_poly[:, 0], outer_poly[:, 1], linewidths=0.005, c=\"r\")\r\n",
    "plt.show()"
   ],
   "outputs": [
    {
     "output_type": "display_data",
     "data": {
      "image/png": "[encoded data removed]",
      "text/plain": [
       "<Figure size 576x576 with 1 Axes>"
      ]
     },
     "metadata": {
      "needs_background": "light"
     }
    }
   ],
   "metadata": {}
  },
  {
   "cell_type": "markdown",
   "source": [
    "**Task 4. Houses in a polygon [2 points]**\r\n",
    "\r\n",
    "Implement a function, that by two coordinates of a point and list of coordinates of the polygon tells whether this point is inside a polygon or not.\r\n",
    "\r\n",
    "You may define as many others functions as you want.\r\n",
    "\r\n",
    "*Hint: the polygons may be regarded as convex.*"
   ],
   "metadata": {}
  },
  {
   "cell_type": "markdown",
   "source": [
    "**Question:** what algorithm to decide whether the point is inside will you implement? Why is it supposed to work?"
   ],
   "metadata": {}
  },
  {
   "cell_type": "markdown",
   "source": [
    "**Your answer:**\r\n",
    "\r\n",
    "I decided to use the algorithm from [the Wiki article on The Point-in-Polygon Problem](https://ru.wikibooks.org/wiki/%D0%A0%D0%B5%D0%B0%D0%BB%D0%B8%D0%B7%D0%B0%D1%86%D0%B8%D0%B8_%D0%B0%D0%BB%D0%B3%D0%BE%D1%80%D0%B8%D1%82%D0%BC%D0%BE%D0%B2/%D0%97%D0%B0%D0%B4%D0%B0%D1%87%D0%B0_%D0%BE_%D0%BF%D1%80%D0%B8%D0%BD%D0%B0%D0%B4%D0%BB%D0%B5%D0%B6%D0%BD%D0%BE%D1%81%D1%82%D0%B8_%D1%82%D0%BE%D1%87%D0%BA%D0%B8_%D0%BC%D0%BD%D0%BE%D0%B3%D0%BE%D1%83%D0%B3%D0%BE%D0%BB%D1%8C%D0%BD%D0%B8%D0%BA%D1%83). The algorithm is based on the idea of counting the number of intersections of a ray emanating from a given point in the direction of the horizontal axis with the sides of a polygon. If it is even, the point does not belong to the polygon."
   ],
   "metadata": {}
  },
  {
   "cell_type": "code",
   "execution_count": 331,
   "source": [
    "def point_is_inside(point, polygon_points):\r\n",
    "    \"\"\"\r\n",
    "    input:\r\n",
    "    - point np.array of (1, 2) shape\r\n",
    "    - polygon_points np.array of (N, 2) shape\r\n",
    "    output:\r\n",
    "    - bool True if point is inside, false if point is outside\r\n",
    "    \"\"\"\r\n",
    "    point_is_inside = False\r\n",
    "    for i in range(polygon_points.shape[0]):\r\n",
    "        if (((polygon_points[i, 1] <= point[1] and point[1] < polygon_points[i-1, 1]) or \\\r\n",
    "            (polygon_points[i-1, 1] <= point[1] and point[1] < polygon_points[i, 1])) and \\\r\n",
    "            (point[0] > (polygon_points[i-1, 0] - polygon_points[i, 0]) * \\\r\n",
    "                (point[1] - polygon_points[i, 1]) / \\\r\n",
    "                (polygon_points[i-1, 1] - polygon_points[i, 1]) + \\\r\n",
    "                polygon_points[i, 0])):\r\n",
    "            point_is_inside = not point_is_inside\r\n",
    "    return point_is_inside"
   ],
   "outputs": [],
   "metadata": {}
  },
  {
   "cell_type": "markdown",
   "source": [
    "And the final part! \n",
    "\n",
    "Scatter plot `small_square_points` again, but with 3 different colours:\n",
    "- colour 1: points inside inner poly\n",
    "- colour 2: points outside outer poly\n",
    "- colour 3: points between inner and outer polys"
   ],
   "metadata": {}
  },
  {
   "cell_type": "code",
   "execution_count": 332,
   "source": [
    "is_inside_inner_poly = np.array(list(point_is_inside(small_square_points[i], inner_poly) for i in range(small_square_points.shape[0])))\r\n",
    "is_outside_outer_poly = np.array(list(not point_is_inside(small_square_points[i], outer_poly) for i in range(small_square_points.shape[0])))\r\n",
    "inside_inner_poly = small_square_points[is_inside_inner_poly]\r\n",
    "outside_outer_poly = small_square_points[is_outside_outer_poly]\r\n",
    "between_inner_and_outer_polys = small_square_points[~(is_inside_inner_poly | is_outside_outer_poly)]\r\n",
    "\r\n",
    "plt.figure(figsize=(8, 8))\r\n",
    "plt.title('Classification of houses in city center')\r\n",
    "plt.scatter(inside_inner_poly[:, 0], inside_inner_poly[:, 1], linewidths=0.001, c=\"c\")\r\n",
    "plt.scatter(outside_outer_poly[:, 0], outside_outer_poly[:, 1], linewidths=0.001, c=\"m\")\r\n",
    "plt.scatter(between_inner_and_outer_polys[:, 0], between_inner_and_outer_polys[:, 1], linewidths=0.001, c=\"y\")\r\n",
    "plt.scatter(inner_poly[:, 0], inner_poly[:, 1], linewidths=0.005, c=\"b\")\r\n",
    "plt.scatter(outer_poly[:, 0], outer_poly[:, 1], linewidths=0.005, c=\"r\")\r\n",
    "plt.show()"
   ],
   "outputs": [
    {
     "output_type": "display_data",
     "data": {
      "image/png": "[encoded data removed]",
      "text/plain": [
       "<Figure size 576x576 with 1 Axes>"
      ]
     },
     "metadata": {
      "needs_background": "light"
     }
    }
   ],
   "metadata": {}
  },
  {
   "cell_type": "markdown",
   "source": [
    "**Question:** How many points are there between inner and outer polys?"
   ],
   "metadata": {}
  },
  {
   "cell_type": "code",
   "execution_count": 333,
   "source": [
    "between_inner_and_outer_polys[:, 0].shape[0]"
   ],
   "outputs": [
    {
     "output_type": "execute_result",
     "data": {
      "text/plain": [
       "2952"
      ]
     },
     "metadata": {},
     "execution_count": 333
    }
   ],
   "metadata": {}
  },
  {
   "cell_type": "markdown",
   "source": [
    "**Your answer:**\r\n",
    "\r\n",
    "There are 2952 points between inner and outer polys."
   ],
   "metadata": {}
  },
  {
   "cell_type": "markdown",
   "source": [
    "## Part 3. Titanic Dataset - Stats and Plots [8 points]\r\n",
    "\r\n",
    "\r\n",
    "In this part we are going to analyze the \"Titanic dataset\".\r\n",
    "The main goal of this task is to describe the data.\r\n",
    "\r\n",
    "Here are some tips:\r\n",
    "- use plots\r\n",
    "- notice pecualrities in the data\r\n",
    "- present verbal explanations, don't be too shy\r\n",
    "\r\n",
    "**Important** Please pay attention to your plots: titles, axis-labels and legends are necessary.\r\n",
    "\r\n",
    "These  tasks involve `numpy`, `pandas` and `matplotlib` - very common python modules. In one task you may use `scipy`."
   ],
   "metadata": {}
  },
  {
   "cell_type": "markdown",
   "source": [
    "#### Input data\n",
    "This task uses 2 files:\n",
    "- `passengers_record.csv` contains some general information on passengers (name, class, age, etc.)\n",
    "- `survival_info.csv` contains binary labels whether passenger survived or not"
   ],
   "metadata": {}
  },
  {
   "cell_type": "code",
   "execution_count": 334,
   "source": [
    "import pandas as pd\r\n",
    "import matplotlib.pyplot as plt\r\n",
    "%matplotlib inline"
   ],
   "outputs": [],
   "metadata": {}
  },
  {
   "cell_type": "markdown",
   "source": [
    "**Task 1. [1 point]**\r\n",
    "\r\n",
    "Read these files and join them into single dataset (use `passenger_id` as join key). Then provide some description of the dataset: \r\n",
    "- What are age/gender/class distributions and their averages? How many people belong to each group?\r\n",
    "- Find the oldest/youngest passengers in every class\r\n",
    "- Compare survival rates between classes/age groups/genders (configuration of age groups is up to you)"
   ],
   "metadata": {}
  },
  {
   "cell_type": "code",
   "execution_count": 335,
   "source": [
    "passengers_record = pd.read_csv(\"data/passengers_record.csv\")\r\n",
    "survival_info = pd.read_csv(\"data/survival_info.csv\")\r\n",
    "\r\n",
    "assert passengers_record.shape == (891, 11) and survival_info.shape == (891, 2), \"Wrong db shapes\""
   ],
   "outputs": [],
   "metadata": {}
  },
  {
   "cell_type": "code",
   "execution_count": 336,
   "source": [
    "db = passengers_record.join(survival_info.set_index('PassengerId'), on='PassengerId')"
   ],
   "outputs": [],
   "metadata": {}
  },
  {
   "cell_type": "code",
   "execution_count": 337,
   "source": [
    "age_distribution = db.groupby('Age', as_index=False).count()\r\n",
    "plt.title('Age distribution')\r\n",
    "plt.bar(age_distribution['Age'], age_distribution['PassengerId'])\r\n",
    "plt.xlabel('Age')\r\n",
    "plt.ylabel('People')\r\n",
    "plt.grid(10)\r\n",
    "\r\n",
    "plt.axvline(db['Age'].mean(), color='r', linestyle='dashed', linewidth=2)\r\n",
    "min_ylim, max_ylim = plt.ylim()\r\n",
    "age_avg = db['Age'].mean()\r\n",
    "plt.text(age_avg * 1.1, max_ylim * 0.9, 'Average: {:.3f}'.format(age_avg))\r\n",
    "\r\n",
    "plt.show()"
   ],
   "outputs": [
    {
     "output_type": "display_data",
     "data": {
      "image/png": "[encoded data removed]",
      "text/plain": [
       "<Figure size 432x288 with 1 Axes>"
      ]
     },
     "metadata": {
      "needs_background": "light"
     }
    }
   ],
   "metadata": {}
  },
  {
   "cell_type": "code",
   "execution_count": 338,
   "source": [
    "sex_distribution = db.groupby('Sex', as_index=False).count()\r\n",
    "plt.title('Sex distribution')\r\n",
    "plt.bar(sex_distribution['Sex'], sex_distribution['PassengerId'])\r\n",
    "plt.xlabel('Sex')\r\n",
    "plt.ylabel('People')\r\n",
    "plt.grid(10)\r\n",
    "plt.show()"
   ],
   "outputs": [
    {
     "output_type": "display_data",
     "data": {
      "image/png": "[encoded data removed]",
      "text/plain": [
       "<Figure size 432x288 with 1 Axes>"
      ]
     },
     "metadata": {
      "needs_background": "light"
     }
    }
   ],
   "metadata": {}
  },
  {
   "cell_type": "code",
   "execution_count": 339,
   "source": [
    "class_distribution = db.groupby('Pclass', as_index=False).count()\r\n",
    "plt.title('Class distribution')\r\n",
    "plt.bar(class_distribution['Pclass'], class_distribution['PassengerId'])\r\n",
    "plt.xticks(class_distribution['Pclass'])\r\n",
    "plt.xlabel('Class')\r\n",
    "plt.ylabel('People')\r\n",
    "plt.grid(10)\r\n",
    "plt.show()"
   ],
   "outputs": [
    {
     "output_type": "display_data",
     "data": {
      "image/png": "[encoded data removed]",
      "text/plain": [
       "<Figure size 432x288 with 1 Axes>"
      ]
     },
     "metadata": {
      "needs_background": "light"
     }
    }
   ],
   "metadata": {}
  },
  {
   "cell_type": "markdown",
   "source": [
    "Now we can see age (and its average), gender and class distributions and how many people belong to each group."
   ],
   "metadata": {}
  },
  {
   "cell_type": "code",
   "execution_count": 340,
   "source": [
    "db.loc[db.groupby('Pclass').Age.idxmin()]"
   ],
   "outputs": [
    {
     "output_type": "execute_result",
     "data": {
      "text/html": [
       "<div>\n",
       "<style scoped>\n",
       "    .dataframe tbody tr th:only-of-type {\n",
       "        vertical-align: middle;\n",
       "    }\n",
       "\n",
       "    .dataframe tbody tr th {\n",
       "        vertical-align: top;\n",
       "    }\n",
       "\n",
       "    .dataframe thead th {\n",
       "        text-align: right;\n",
       "    }\n",
       "</style>\n",
       "<table border=\"1\" class=\"dataframe\">\n",
       "  <thead>\n",
       "    <tr style=\"text-align: right;\">\n",
       "      <th></th>\n",
       "      <th>PassengerId</th>\n",
       "      <th>Pclass</th>\n",
       "      <th>Name</th>\n",
       "      <th>Sex</th>\n",
       "      <th>Age</th>\n",
       "      <th>SibSp</th>\n",
       "      <th>Parch</th>\n",
       "      <th>Ticket</th>\n",
       "      <th>Fare</th>\n",
       "      <th>Cabin</th>\n",
       "      <th>Embarked</th>\n",
       "      <th>Survived</th>\n",
       "    </tr>\n",
       "  </thead>\n",
       "  <tbody>\n",
       "    <tr>\n",
       "      <th>305</th>\n",
       "      <td>306</td>\n",
       "      <td>1</td>\n",
       "      <td>Allison, Master. Hudson Trevor</td>\n",
       "      <td>male</td>\n",
       "      <td>0.92</td>\n",
       "      <td>1</td>\n",
       "      <td>2</td>\n",
       "      <td>113781</td>\n",
       "      <td>151.5500</td>\n",
       "      <td>C22 C26</td>\n",
       "      <td>S</td>\n",
       "      <td>1</td>\n",
       "    </tr>\n",
       "    <tr>\n",
       "      <th>755</th>\n",
       "      <td>756</td>\n",
       "      <td>2</td>\n",
       "      <td>Hamalainen, Master. Viljo</td>\n",
       "      <td>male</td>\n",
       "      <td>0.67</td>\n",
       "      <td>1</td>\n",
       "      <td>1</td>\n",
       "      <td>250649</td>\n",
       "      <td>14.5000</td>\n",
       "      <td>NaN</td>\n",
       "      <td>S</td>\n",
       "      <td>1</td>\n",
       "    </tr>\n",
       "    <tr>\n",
       "      <th>803</th>\n",
       "      <td>804</td>\n",
       "      <td>3</td>\n",
       "      <td>Thomas, Master. Assad Alexander</td>\n",
       "      <td>male</td>\n",
       "      <td>0.42</td>\n",
       "      <td>0</td>\n",
       "      <td>1</td>\n",
       "      <td>2625</td>\n",
       "      <td>8.5167</td>\n",
       "      <td>NaN</td>\n",
       "      <td>C</td>\n",
       "      <td>1</td>\n",
       "    </tr>\n",
       "  </tbody>\n",
       "</table>\n",
       "</div>"
      ],
      "text/plain": [
       "     PassengerId  Pclass                             Name   Sex   Age  SibSp  \\\n",
       "305          306       1   Allison, Master. Hudson Trevor  male  0.92      1   \n",
       "755          756       2        Hamalainen, Master. Viljo  male  0.67      1   \n",
       "803          804       3  Thomas, Master. Assad Alexander  male  0.42      0   \n",
       "\n",
       "     Parch  Ticket      Fare    Cabin Embarked  Survived  \n",
       "305      2  113781  151.5500  C22 C26        S         1  \n",
       "755      1  250649   14.5000      NaN        S         1  \n",
       "803      1    2625    8.5167      NaN        C         1  "
      ]
     },
     "metadata": {},
     "execution_count": 340
    }
   ],
   "metadata": {}
  },
  {
   "cell_type": "markdown",
   "source": [
    "The youngest passengers in each class are found."
   ],
   "metadata": {}
  },
  {
   "cell_type": "code",
   "execution_count": 341,
   "source": [
    "db.loc[db.groupby('Pclass').Age.idxmax()]"
   ],
   "outputs": [
    {
     "output_type": "execute_result",
     "data": {
      "text/html": [
       "<div>\n",
       "<style scoped>\n",
       "    .dataframe tbody tr th:only-of-type {\n",
       "        vertical-align: middle;\n",
       "    }\n",
       "\n",
       "    .dataframe tbody tr th {\n",
       "        vertical-align: top;\n",
       "    }\n",
       "\n",
       "    .dataframe thead th {\n",
       "        text-align: right;\n",
       "    }\n",
       "</style>\n",
       "<table border=\"1\" class=\"dataframe\">\n",
       "  <thead>\n",
       "    <tr style=\"text-align: right;\">\n",
       "      <th></th>\n",
       "      <th>PassengerId</th>\n",
       "      <th>Pclass</th>\n",
       "      <th>Name</th>\n",
       "      <th>Sex</th>\n",
       "      <th>Age</th>\n",
       "      <th>SibSp</th>\n",
       "      <th>Parch</th>\n",
       "      <th>Ticket</th>\n",
       "      <th>Fare</th>\n",
       "      <th>Cabin</th>\n",
       "      <th>Embarked</th>\n",
       "      <th>Survived</th>\n",
       "    </tr>\n",
       "  </thead>\n",
       "  <tbody>\n",
       "    <tr>\n",
       "      <th>630</th>\n",
       "      <td>631</td>\n",
       "      <td>1</td>\n",
       "      <td>Barkworth, Mr. Algernon Henry Wilson</td>\n",
       "      <td>male</td>\n",
       "      <td>80.0</td>\n",
       "      <td>0</td>\n",
       "      <td>0</td>\n",
       "      <td>27042</td>\n",
       "      <td>30.000</td>\n",
       "      <td>A23</td>\n",
       "      <td>S</td>\n",
       "      <td>1</td>\n",
       "    </tr>\n",
       "    <tr>\n",
       "      <th>672</th>\n",
       "      <td>673</td>\n",
       "      <td>2</td>\n",
       "      <td>Mitchell, Mr. Henry Michael</td>\n",
       "      <td>male</td>\n",
       "      <td>70.0</td>\n",
       "      <td>0</td>\n",
       "      <td>0</td>\n",
       "      <td>C.A. 24580</td>\n",
       "      <td>10.500</td>\n",
       "      <td>NaN</td>\n",
       "      <td>S</td>\n",
       "      <td>0</td>\n",
       "    </tr>\n",
       "    <tr>\n",
       "      <th>851</th>\n",
       "      <td>852</td>\n",
       "      <td>3</td>\n",
       "      <td>Svensson, Mr. Johan</td>\n",
       "      <td>male</td>\n",
       "      <td>74.0</td>\n",
       "      <td>0</td>\n",
       "      <td>0</td>\n",
       "      <td>347060</td>\n",
       "      <td>7.775</td>\n",
       "      <td>NaN</td>\n",
       "      <td>S</td>\n",
       "      <td>0</td>\n",
       "    </tr>\n",
       "  </tbody>\n",
       "</table>\n",
       "</div>"
      ],
      "text/plain": [
       "     PassengerId  Pclass                                  Name   Sex   Age  \\\n",
       "630          631       1  Barkworth, Mr. Algernon Henry Wilson  male  80.0   \n",
       "672          673       2           Mitchell, Mr. Henry Michael  male  70.0   \n",
       "851          852       3                   Svensson, Mr. Johan  male  74.0   \n",
       "\n",
       "     SibSp  Parch      Ticket    Fare Cabin Embarked  Survived  \n",
       "630      0      0       27042  30.000   A23        S         1  \n",
       "672      0      0  C.A. 24580  10.500   NaN        S         0  \n",
       "851      0      0      347060   7.775   NaN        S         0  "
      ]
     },
     "metadata": {},
     "execution_count": 341
    }
   ],
   "metadata": {}
  },
  {
   "cell_type": "markdown",
   "source": [
    "The oldest passengers in each class are found."
   ],
   "metadata": {}
  },
  {
   "cell_type": "code",
   "execution_count": 342,
   "source": [
    "db_by_class = db.groupby('Pclass', as_index=False)\r\n",
    "survived_by_class = db_by_class['Survived'].sum()\r\n",
    "survived_by_class['Survived'] = round(db_by_class['Survived'].sum()['Survived'] / db_by_class['PassengerId'].count()['PassengerId'] * 100, 3)\r\n",
    "survived_by_class.rename(columns={'Survived': 'Percentage of survivors'})"
   ],
   "outputs": [
    {
     "output_type": "execute_result",
     "data": {
      "text/html": [
       "<div>\n",
       "<style scoped>\n",
       "    .dataframe tbody tr th:only-of-type {\n",
       "        vertical-align: middle;\n",
       "    }\n",
       "\n",
       "    .dataframe tbody tr th {\n",
       "        vertical-align: top;\n",
       "    }\n",
       "\n",
       "    .dataframe thead th {\n",
       "        text-align: right;\n",
       "    }\n",
       "</style>\n",
       "<table border=\"1\" class=\"dataframe\">\n",
       "  <thead>\n",
       "    <tr style=\"text-align: right;\">\n",
       "      <th></th>\n",
       "      <th>Pclass</th>\n",
       "      <th>Percentage of survivors</th>\n",
       "    </tr>\n",
       "  </thead>\n",
       "  <tbody>\n",
       "    <tr>\n",
       "      <th>0</th>\n",
       "      <td>1</td>\n",
       "      <td>62.963</td>\n",
       "    </tr>\n",
       "    <tr>\n",
       "      <th>1</th>\n",
       "      <td>2</td>\n",
       "      <td>47.283</td>\n",
       "    </tr>\n",
       "    <tr>\n",
       "      <th>2</th>\n",
       "      <td>3</td>\n",
       "      <td>24.236</td>\n",
       "    </tr>\n",
       "  </tbody>\n",
       "</table>\n",
       "</div>"
      ],
      "text/plain": [
       "   Pclass  Percentage of survivors\n",
       "0       1                   62.963\n",
       "1       2                   47.283\n",
       "2       3                   24.236"
      ]
     },
     "metadata": {},
     "execution_count": 342
    }
   ],
   "metadata": {}
  },
  {
   "cell_type": "markdown",
   "source": [
    "As we can see, the highest number of surviving passengers is from first class, the lowest from third class."
   ],
   "metadata": {}
  },
  {
   "cell_type": "code",
   "execution_count": 343,
   "source": [
    "db_by_gender = db.groupby('Sex', as_index=False)\r\n",
    "survived_by_gender = db_by_gender['Survived'].sum()\r\n",
    "survived_by_gender['Survived'] = round(db_by_gender['Survived'].sum()['Survived'] / db_by_gender['PassengerId'].count()['PassengerId'] * 100, 3)\r\n",
    "survived_by_gender.rename(columns={'Survived': 'Percentage of survivors'})"
   ],
   "outputs": [
    {
     "output_type": "execute_result",
     "data": {
      "text/html": [
       "<div>\n",
       "<style scoped>\n",
       "    .dataframe tbody tr th:only-of-type {\n",
       "        vertical-align: middle;\n",
       "    }\n",
       "\n",
       "    .dataframe tbody tr th {\n",
       "        vertical-align: top;\n",
       "    }\n",
       "\n",
       "    .dataframe thead th {\n",
       "        text-align: right;\n",
       "    }\n",
       "</style>\n",
       "<table border=\"1\" class=\"dataframe\">\n",
       "  <thead>\n",
       "    <tr style=\"text-align: right;\">\n",
       "      <th></th>\n",
       "      <th>Sex</th>\n",
       "      <th>Percentage of survivors</th>\n",
       "    </tr>\n",
       "  </thead>\n",
       "  <tbody>\n",
       "    <tr>\n",
       "      <th>0</th>\n",
       "      <td>female</td>\n",
       "      <td>74.204</td>\n",
       "    </tr>\n",
       "    <tr>\n",
       "      <th>1</th>\n",
       "      <td>male</td>\n",
       "      <td>18.891</td>\n",
       "    </tr>\n",
       "  </tbody>\n",
       "</table>\n",
       "</div>"
      ],
      "text/plain": [
       "      Sex  Percentage of survivors\n",
       "0  female                   74.204\n",
       "1    male                   18.891"
      ]
     },
     "metadata": {},
     "execution_count": 343
    }
   ],
   "metadata": {}
  },
  {
   "cell_type": "markdown",
   "source": [
    "As we can see, more women than men survived."
   ],
   "metadata": {}
  },
  {
   "cell_type": "code",
   "execution_count": 344,
   "source": [
    "def age_group(age):\r\n",
    "    if age < 18:\r\n",
    "        return 'child'\r\n",
    "    elif age < 50:\r\n",
    "        return 'adult'\r\n",
    "    else:\r\n",
    "        return 'old'\r\n",
    "\r\n",
    "db_by_age = db.copy()\r\n",
    "db_by_age['AgeGroup'] = db_by_age['Age'].apply(age_group)\r\n",
    "db_by_age = db_by_age.groupby('AgeGroup', as_index=False)\r\n",
    "survived_by_age = db_by_age['Survived'].sum()\r\n",
    "survived_by_age['Survived'] = round(db_by_age['Survived'].sum()['Survived'] / db_by_age['PassengerId'].count()['PassengerId'] * 100, 3)\r\n",
    "survived_by_age.rename(columns={'Survived': 'Percentage of survivors'}).sort_values(by=['Percentage of survivors'], ascending=False)"
   ],
   "outputs": [
    {
     "output_type": "execute_result",
     "data": {
      "text/html": [
       "<div>\n",
       "<style scoped>\n",
       "    .dataframe tbody tr th:only-of-type {\n",
       "        vertical-align: middle;\n",
       "    }\n",
       "\n",
       "    .dataframe tbody tr th {\n",
       "        vertical-align: top;\n",
       "    }\n",
       "\n",
       "    .dataframe thead th {\n",
       "        text-align: right;\n",
       "    }\n",
       "</style>\n",
       "<table border=\"1\" class=\"dataframe\">\n",
       "  <thead>\n",
       "    <tr style=\"text-align: right;\">\n",
       "      <th></th>\n",
       "      <th>AgeGroup</th>\n",
       "      <th>Percentage of survivors</th>\n",
       "    </tr>\n",
       "  </thead>\n",
       "  <tbody>\n",
       "    <tr>\n",
       "      <th>1</th>\n",
       "      <td>child</td>\n",
       "      <td>53.982</td>\n",
       "    </tr>\n",
       "    <tr>\n",
       "      <th>0</th>\n",
       "      <td>adult</td>\n",
       "      <td>38.330</td>\n",
       "    </tr>\n",
       "    <tr>\n",
       "      <th>2</th>\n",
       "      <td>old</td>\n",
       "      <td>31.474</td>\n",
       "    </tr>\n",
       "  </tbody>\n",
       "</table>\n",
       "</div>"
      ],
      "text/plain": [
       "  AgeGroup  Percentage of survivors\n",
       "1    child                   53.982\n",
       "0    adult                   38.330\n",
       "2      old                   31.474"
      ]
     },
     "metadata": {},
     "execution_count": 344
    }
   ],
   "metadata": {}
  },
  {
   "cell_type": "markdown",
   "source": [
    "As we can see, the highest number of surviving passengers is children, the lowest is old."
   ],
   "metadata": {}
  },
  {
   "cell_type": "markdown",
   "source": [
    "**Task 2. [2 points]**\r\n",
    "\r\n",
    "Compare average age per class: can we consider these values to be equal? Use visualisation to prove your point. \r\n",
    "\r\n",
    "Can we answer this question using the T-test? Why? Here you may use `scipy.stats`."
   ],
   "metadata": {}
  },
  {
   "cell_type": "code",
   "execution_count": 345,
   "source": [
    "average_age_by_class = db.groupby('Pclass', as_index=False).Age.mean()\r\n",
    "plt.title('Average age by class')\r\n",
    "plt.bar(average_age_by_class['Pclass'], average_age_by_class['Age'])\r\n",
    "plt.xticks(average_age_by_class['Pclass'])\r\n",
    "plt.xlabel('Class')\r\n",
    "plt.ylabel('Average age')\r\n",
    "plt.grid(10)\r\n",
    "plt.show()"
   ],
   "outputs": [
    {
     "output_type": "display_data",
     "data": {
      "image/png": "[encoded data removed]",
      "text/plain": [
       "<Figure size 432x288 with 1 Axes>"
      ]
     },
     "metadata": {
      "needs_background": "light"
     }
    }
   ],
   "metadata": {}
  },
  {
   "cell_type": "markdown",
   "source": [
    "We cannot consider the average age per class values to be equal."
   ],
   "metadata": {}
  },
  {
   "cell_type": "markdown",
   "source": [
    "We can also answer this question using the T-test (but I'm not quite sure if we may use the T-test, because this test assumes that the populations have identical variances by default). The T-test can be used to determine if the means of two sets of data are significantly different from each other."
   ],
   "metadata": {}
  },
  {
   "cell_type": "code",
   "execution_count": 346,
   "source": [
    "import scipy.stats"
   ],
   "outputs": [],
   "metadata": {}
  },
  {
   "cell_type": "code",
   "execution_count": 347,
   "source": [
    "first_class_ages = db.loc[db['Pclass'] == 1]['Age'].dropna()\r\n",
    "second_class_ages = db.loc[db['Pclass'] == 2]['Age'].dropna()\r\n",
    "third_class_ages = db.loc[db['Pclass'] == 3]['Age'].dropna()\r\n",
    "print(scipy.stats.ttest_ind(first_class_ages, second_class_ages))\r\n",
    "print(scipy.stats.ttest_ind(first_class_ages, third_class_ages))\r\n",
    "print(scipy.stats.ttest_ind(second_class_ages, third_class_ages))"
   ],
   "outputs": [
    {
     "output_type": "stream",
     "name": "stdout",
     "text": [
      "Ttest_indResult(statistic=5.485187676773201, pvalue=7.835568991415144e-08)\n",
      "Ttest_indResult(statistic=10.849122601201033, pvalue=6.134470007830625e-25)\n",
      "Ttest_indResult(statistic=3.927800191020872, pvalue=9.715078600777852e-05)\n"
     ]
    }
   ],
   "metadata": {}
  },
  {
   "cell_type": "markdown",
   "source": [
    "The T-test also answers that the average age values in the samples are not equal."
   ],
   "metadata": {}
  },
  {
   "cell_type": "markdown",
   "source": [
    "**Task 3. [2 points]**\n",
    "\n",
    "Use `plt.subplots` to create side-by-side histograms of distributions:\n",
    "- columns: 3 classes\n",
    "- rows: age, fare, sex, survival rate\n",
    "\n",
    "The output is 4 by 3 table of plots."
   ],
   "metadata": {}
  },
  {
   "cell_type": "code",
   "execution_count": 348,
   "source": [
    "cols = ['Class {}'.format(i) for i in range(1, 4)]\r\n",
    "rows = ['Age', 'Fare', 'Sex', 'Survived']\r\n",
    "\r\n",
    "fig, axes = plt.subplots(nrows=4, ncols=3, figsize=(12, 12))\r\n",
    "\r\n",
    "for ax, row in zip(axes[:, 0], rows):\r\n",
    "    ax.set_ylabel(row)\r\n",
    "\r\n",
    "for ax, col in zip(axes[0], cols):\r\n",
    "    ax.set_title(col)\r\n",
    "\r\n",
    "for i in range(4):\r\n",
    "    for j in range(3):\r\n",
    "        axes[i][j].hist(db[db['Pclass'] == j+1][rows[i]])\r\n",
    "        if rows[i] == 'Survived':\r\n",
    "            axes[i][j].set_xticks([0, 1])\r\n",
    "            axes[i][j].set_xticklabels(['not survived', 'survived'])\r\n",
    "\r\n",
    "fig.tight_layout()\r\n",
    "plt.show()"
   ],
   "outputs": [
    {
     "output_type": "display_data",
     "data": {
      "image/png": "[encoded data removed]",
      "text/plain": [
       "<Figure size 864x864 with 12 Axes>"
      ]
     },
     "metadata": {
      "needs_background": "light"
     }
    }
   ],
   "metadata": {}
  },
  {
   "cell_type": "markdown",
   "source": [
    "Now we can see the histograms side by side, awesome!"
   ],
   "metadata": {}
  },
  {
   "cell_type": "markdown",
   "source": [
    "**Task 4. [1 point]**\r\n",
    "\r\n",
    "Find 5 most common **surnames** in passenger list. Try to use `pandas.Series.apply` and lambda-function to extract surnames."
   ],
   "metadata": {}
  },
  {
   "cell_type": "code",
   "execution_count": 349,
   "source": [
    "db_with_surnames = db.copy()\r\n",
    "db_with_surnames['Surname'] = db['Name'].apply(lambda x: x.split(sep=',')[0])\r\n",
    "surnames_count = db_with_surnames.groupby('Surname', as_index=False)['PassengerId'].count()\r\n",
    "surnames_count.rename(columns={'PassengerId': 'Passengers count'}).sort_values(by=['Passengers count'], ascending=False).head(5)"
   ],
   "outputs": [
    {
     "output_type": "execute_result",
     "data": {
      "text/html": [
       "<div>\n",
       "<style scoped>\n",
       "    .dataframe tbody tr th:only-of-type {\n",
       "        vertical-align: middle;\n",
       "    }\n",
       "\n",
       "    .dataframe tbody tr th {\n",
       "        vertical-align: top;\n",
       "    }\n",
       "\n",
       "    .dataframe thead th {\n",
       "        text-align: right;\n",
       "    }\n",
       "</style>\n",
       "<table border=\"1\" class=\"dataframe\">\n",
       "  <thead>\n",
       "    <tr style=\"text-align: right;\">\n",
       "      <th></th>\n",
       "      <th>Surname</th>\n",
       "      <th>Passengers count</th>\n",
       "    </tr>\n",
       "  </thead>\n",
       "  <tbody>\n",
       "    <tr>\n",
       "      <th>16</th>\n",
       "      <td>Andersson</td>\n",
       "      <td>9</td>\n",
       "    </tr>\n",
       "    <tr>\n",
       "      <th>532</th>\n",
       "      <td>Sage</td>\n",
       "      <td>7</td>\n",
       "    </tr>\n",
       "    <tr>\n",
       "      <th>563</th>\n",
       "      <td>Skoog</td>\n",
       "      <td>6</td>\n",
       "    </tr>\n",
       "    <tr>\n",
       "      <th>100</th>\n",
       "      <td>Carter</td>\n",
       "      <td>6</td>\n",
       "    </tr>\n",
       "    <tr>\n",
       "      <th>220</th>\n",
       "      <td>Goodwin</td>\n",
       "      <td>6</td>\n",
       "    </tr>\n",
       "  </tbody>\n",
       "</table>\n",
       "</div>"
      ],
      "text/plain": [
       "       Surname  Passengers count\n",
       "16   Andersson                 9\n",
       "532       Sage                 7\n",
       "563      Skoog                 6\n",
       "100     Carter                 6\n",
       "220    Goodwin                 6"
      ]
     },
     "metadata": {},
     "execution_count": 349
    }
   ],
   "metadata": {}
  },
  {
   "cell_type": "markdown",
   "source": [
    "5 most common surnames in passenger list are Andersson, Sage, Skoog, Carter and Goodwin."
   ],
   "metadata": {}
  },
  {
   "cell_type": "markdown",
   "source": [
    "**Task 5. [2 points]**\r\n",
    "\r\n",
    "Probably you already have noticed that there are missing values in the dataset. We will try to fix that.\r\n",
    "1. Omit all the rows, that contain missing values. Is the result plausible? How does this method effect amount of data and values from Task 1 (age histograms, survival rates, etc.?)\r\n",
    "2. Suggest some better options to handle missing values in the data and check if it distorts the statistics."
   ],
   "metadata": {}
  },
  {
   "cell_type": "code",
   "execution_count": 350,
   "source": [
    "db_with_dropped_na = db.dropna()"
   ],
   "outputs": [],
   "metadata": {}
  },
  {
   "cell_type": "code",
   "execution_count": 351,
   "source": [
    "age_distribution = db_with_dropped_na.groupby('Age', as_index=False).count()\r\n",
    "plt.title('Age distribution')\r\n",
    "plt.bar(age_distribution['Age'], age_distribution['PassengerId'])\r\n",
    "plt.xlabel('Age')\r\n",
    "plt.ylabel('People')\r\n",
    "plt.grid(10)\r\n",
    "\r\n",
    "plt.axvline(db_with_dropped_na['Age'].mean(), color='r', linestyle='dashed', linewidth=2)\r\n",
    "min_ylim, max_ylim = plt.ylim()\r\n",
    "age_avg = db_with_dropped_na['Age'].mean()\r\n",
    "plt.text(age_avg * 1.1, max_ylim * 0.9, 'Average: {:.3f}'.format(age_avg))\r\n",
    "\r\n",
    "plt.show()"
   ],
   "outputs": [
    {
     "output_type": "display_data",
     "data": {
      "image/png": "[encoded data removed]",
      "text/plain": [
       "<Figure size 432x288 with 1 Axes>"
      ]
     },
     "metadata": {
      "needs_background": "light"
     }
    }
   ],
   "metadata": {}
  },
  {
   "cell_type": "markdown",
   "source": [
    "Result is not quiet plausible."
   ],
   "metadata": {}
  },
  {
   "cell_type": "code",
   "execution_count": 352,
   "source": [
    "sex_distribution = db_with_dropped_na.groupby('Sex', as_index=False).count()\r\n",
    "plt.title('Sex distribution')\r\n",
    "plt.bar(sex_distribution['Sex'], sex_distribution['PassengerId'])\r\n",
    "plt.xlabel('Sex')\r\n",
    "plt.ylabel('People')\r\n",
    "plt.grid(10)\r\n",
    "plt.show()"
   ],
   "outputs": [
    {
     "output_type": "display_data",
     "data": {
      "image/png": "[encoded data removed]",
      "text/plain": [
       "<Figure size 432x288 with 1 Axes>"
      ]
     },
     "metadata": {
      "needs_background": "light"
     }
    }
   ],
   "metadata": {}
  },
  {
   "cell_type": "markdown",
   "source": [
    "Result is not quiet plausible."
   ],
   "metadata": {}
  },
  {
   "cell_type": "code",
   "execution_count": 353,
   "source": [
    "class_distribution = db_with_dropped_na.groupby('Pclass', as_index=False).count()\r\n",
    "plt.title('Class distribution')\r\n",
    "plt.bar(class_distribution['Pclass'], class_distribution['PassengerId'])\r\n",
    "plt.xticks(class_distribution['Pclass'])\r\n",
    "plt.xlabel('Class')\r\n",
    "plt.ylabel('People')\r\n",
    "plt.grid(10)\r\n",
    "plt.show()"
   ],
   "outputs": [
    {
     "output_type": "display_data",
     "data": {
      "image/png": "[encoded data removed]",
      "text/plain": [
       "<Figure size 432x288 with 1 Axes>"
      ]
     },
     "metadata": {
      "needs_background": "light"
     }
    }
   ],
   "metadata": {}
  },
  {
   "cell_type": "markdown",
   "source": [
    "Result is absolutely implausible."
   ],
   "metadata": {}
  },
  {
   "cell_type": "code",
   "execution_count": 354,
   "source": [
    "db_by_class = db_with_dropped_na.groupby('Pclass', as_index=False)\r\n",
    "survived_by_class = db_by_class['Survived'].sum()\r\n",
    "survived_by_class['Survived'] = round(db_by_class['Survived'].sum()['Survived'] / db_by_class['PassengerId'].count()['PassengerId'] * 100, 3)\r\n",
    "survived_by_class.rename(columns={'Survived': 'Percentage of survivors'})"
   ],
   "outputs": [
    {
     "output_type": "execute_result",
     "data": {
      "text/html": [
       "<div>\n",
       "<style scoped>\n",
       "    .dataframe tbody tr th:only-of-type {\n",
       "        vertical-align: middle;\n",
       "    }\n",
       "\n",
       "    .dataframe tbody tr th {\n",
       "        vertical-align: top;\n",
       "    }\n",
       "\n",
       "    .dataframe thead th {\n",
       "        text-align: right;\n",
       "    }\n",
       "</style>\n",
       "<table border=\"1\" class=\"dataframe\">\n",
       "  <thead>\n",
       "    <tr style=\"text-align: right;\">\n",
       "      <th></th>\n",
       "      <th>Pclass</th>\n",
       "      <th>Percentage of survivors</th>\n",
       "    </tr>\n",
       "  </thead>\n",
       "  <tbody>\n",
       "    <tr>\n",
       "      <th>0</th>\n",
       "      <td>1</td>\n",
       "      <td>67.089</td>\n",
       "    </tr>\n",
       "    <tr>\n",
       "      <th>1</th>\n",
       "      <td>2</td>\n",
       "      <td>80.000</td>\n",
       "    </tr>\n",
       "    <tr>\n",
       "      <th>2</th>\n",
       "      <td>3</td>\n",
       "      <td>50.000</td>\n",
       "    </tr>\n",
       "  </tbody>\n",
       "</table>\n",
       "</div>"
      ],
      "text/plain": [
       "   Pclass  Percentage of survivors\n",
       "0       1                   67.089\n",
       "1       2                   80.000\n",
       "2       3                   50.000"
      ]
     },
     "metadata": {},
     "execution_count": 354
    }
   ],
   "metadata": {}
  },
  {
   "cell_type": "markdown",
   "source": [
    "Result is implausible."
   ],
   "metadata": {}
  },
  {
   "cell_type": "code",
   "execution_count": 355,
   "source": [
    "db_by_gender = db_with_dropped_na.groupby('Sex', as_index=False)\r\n",
    "survived_by_gender = db_by_gender['Survived'].sum()\r\n",
    "survived_by_gender['Survived'] = round(db_by_gender['Survived'].sum()['Survived'] / db_by_gender['PassengerId'].count()['PassengerId'] * 100, 3)\r\n",
    "survived_by_gender.rename(columns={'Survived': 'Percentage of survivors'})"
   ],
   "outputs": [
    {
     "output_type": "execute_result",
     "data": {
      "text/html": [
       "<div>\n",
       "<style scoped>\n",
       "    .dataframe tbody tr th:only-of-type {\n",
       "        vertical-align: middle;\n",
       "    }\n",
       "\n",
       "    .dataframe tbody tr th {\n",
       "        vertical-align: top;\n",
       "    }\n",
       "\n",
       "    .dataframe thead th {\n",
       "        text-align: right;\n",
       "    }\n",
       "</style>\n",
       "<table border=\"1\" class=\"dataframe\">\n",
       "  <thead>\n",
       "    <tr style=\"text-align: right;\">\n",
       "      <th></th>\n",
       "      <th>Sex</th>\n",
       "      <th>Percentage of survivors</th>\n",
       "    </tr>\n",
       "  </thead>\n",
       "  <tbody>\n",
       "    <tr>\n",
       "      <th>0</th>\n",
       "      <td>female</td>\n",
       "      <td>93.182</td>\n",
       "    </tr>\n",
       "    <tr>\n",
       "      <th>1</th>\n",
       "      <td>male</td>\n",
       "      <td>43.158</td>\n",
       "    </tr>\n",
       "  </tbody>\n",
       "</table>\n",
       "</div>"
      ],
      "text/plain": [
       "      Sex  Percentage of survivors\n",
       "0  female                   93.182\n",
       "1    male                   43.158"
      ]
     },
     "metadata": {},
     "execution_count": 355
    }
   ],
   "metadata": {}
  },
  {
   "cell_type": "markdown",
   "source": [
    "The result is relatively plausible."
   ],
   "metadata": {}
  },
  {
   "cell_type": "code",
   "execution_count": 356,
   "source": [
    "def age_group(age):\r\n",
    "    if age < 18:\r\n",
    "        return 'child'\r\n",
    "    elif age < 50:\r\n",
    "        return 'adult'\r\n",
    "    else:\r\n",
    "        return 'old'\r\n",
    "\r\n",
    "db_by_age = db_with_dropped_na.copy()\r\n",
    "db_by_age['AgeGroup'] = db_by_age['Age'].apply(age_group)\r\n",
    "db_by_age = db_by_age.groupby('AgeGroup', as_index=False)\r\n",
    "survived_by_age = db_by_age['Survived'].sum()\r\n",
    "survived_by_age['Survived'] = round(db_by_age['Survived'].sum()['Survived'] / db_by_age['PassengerId'].count()['PassengerId'] * 100, 3)\r\n",
    "survived_by_age.rename(columns={'Survived': 'Percentage of survivors'}).sort_values(by=['Percentage of survivors'], ascending=False)"
   ],
   "outputs": [
    {
     "output_type": "execute_result",
     "data": {
      "text/html": [
       "<div>\n",
       "<style scoped>\n",
       "    .dataframe tbody tr th:only-of-type {\n",
       "        vertical-align: middle;\n",
       "    }\n",
       "\n",
       "    .dataframe tbody tr th {\n",
       "        vertical-align: top;\n",
       "    }\n",
       "\n",
       "    .dataframe thead th {\n",
       "        text-align: right;\n",
       "    }\n",
       "</style>\n",
       "<table border=\"1\" class=\"dataframe\">\n",
       "  <thead>\n",
       "    <tr style=\"text-align: right;\">\n",
       "      <th></th>\n",
       "      <th>AgeGroup</th>\n",
       "      <th>Percentage of survivors</th>\n",
       "    </tr>\n",
       "  </thead>\n",
       "  <tbody>\n",
       "    <tr>\n",
       "      <th>1</th>\n",
       "      <td>child</td>\n",
       "      <td>89.474</td>\n",
       "    </tr>\n",
       "    <tr>\n",
       "      <th>0</th>\n",
       "      <td>adult</td>\n",
       "      <td>69.531</td>\n",
       "    </tr>\n",
       "    <tr>\n",
       "      <th>2</th>\n",
       "      <td>old</td>\n",
       "      <td>47.222</td>\n",
       "    </tr>\n",
       "  </tbody>\n",
       "</table>\n",
       "</div>"
      ],
      "text/plain": [
       "  AgeGroup  Percentage of survivors\n",
       "1    child                   89.474\n",
       "0    adult                   69.531\n",
       "2      old                   47.222"
      ]
     },
     "metadata": {},
     "execution_count": 356
    }
   ],
   "metadata": {}
  },
  {
   "cell_type": "markdown",
   "source": [
    "The result is relatively plausible."
   ],
   "metadata": {}
  },
  {
   "cell_type": "code",
   "execution_count": 357,
   "source": [
    "print(db.shape[0], db_with_dropped_na.shape[0], sep='\\n')"
   ],
   "outputs": [
    {
     "output_type": "stream",
     "name": "stdout",
     "text": [
      "891\n",
      "183\n"
     ]
    }
   ],
   "metadata": {}
  },
  {
   "cell_type": "markdown",
   "source": [
    "As we can see, by omitting all the lines containing the missing values, we got mostly implausible results, since we lost most of the data."
   ],
   "metadata": {}
  },
  {
   "cell_type": "code",
   "execution_count": 358,
   "source": [
    "db.isna().any()"
   ],
   "outputs": [
    {
     "output_type": "execute_result",
     "data": {
      "text/plain": [
       "PassengerId    False\n",
       "Pclass         False\n",
       "Name           False\n",
       "Sex            False\n",
       "Age             True\n",
       "SibSp          False\n",
       "Parch          False\n",
       "Ticket         False\n",
       "Fare           False\n",
       "Cabin           True\n",
       "Embarked        True\n",
       "Survived       False\n",
       "dtype: bool"
      ]
     },
     "metadata": {},
     "execution_count": 358
    }
   ],
   "metadata": {}
  },
  {
   "cell_type": "code",
   "execution_count": 359,
   "source": [
    "import random\r\n",
    "\r\n",
    "db_with_filled_na = db.copy()\r\n",
    "mean_age = db['Age'].mean()\r\n",
    "db_with_filled_na['Age'].fillna(mean_age, inplace=True)\r\n",
    "db_with_filled_na['Cabin'].fillna(lambda x: random.choice(db[db['Cabin'] != np.nan]['Cabin']), inplace=True)\r\n",
    "db_with_filled_na['Embarked'].fillna(lambda x: random.choice(db[db['Embarked'] != np.nan]['Embarked']), inplace=True)\r\n",
    "db_with_filled_na.isna().any()"
   ],
   "outputs": [
    {
     "output_type": "execute_result",
     "data": {
      "text/plain": [
       "PassengerId    False\n",
       "Pclass         False\n",
       "Name           False\n",
       "Sex            False\n",
       "Age            False\n",
       "SibSp          False\n",
       "Parch          False\n",
       "Ticket         False\n",
       "Fare           False\n",
       "Cabin          False\n",
       "Embarked       False\n",
       "Survived       False\n",
       "dtype: bool"
      ]
     },
     "metadata": {},
     "execution_count": 359
    }
   ],
   "metadata": {}
  },
  {
   "cell_type": "code",
   "execution_count": 360,
   "source": [
    "age_distribution = db_with_filled_na.groupby('Age', as_index=False).count()\r\n",
    "plt.title('Age distribution')\r\n",
    "plt.bar(age_distribution['Age'], age_distribution['PassengerId'])\r\n",
    "plt.xlabel('Age')\r\n",
    "plt.ylabel('People')\r\n",
    "plt.grid(10)\r\n",
    "\r\n",
    "plt.axvline(db_with_filled_na['Age'].mean(), color='r', linestyle='dashed', linewidth=2)\r\n",
    "min_ylim, max_ylim = plt.ylim()\r\n",
    "age_avg = db_with_filled_na['Age'].mean()\r\n",
    "plt.text(age_avg * 1.1, max_ylim * 0.9, 'Average: {:.3f}'.format(age_avg))\r\n",
    "\r\n",
    "plt.show()"
   ],
   "outputs": [
    {
     "output_type": "display_data",
     "data": {
      "image/png": "[encoded data removed]",
      "text/plain": [
       "<Figure size 432x288 with 1 Axes>"
      ]
     },
     "metadata": {
      "needs_background": "light"
     }
    }
   ],
   "metadata": {}
  },
  {
   "cell_type": "markdown",
   "source": [
    "The result is implausible, so it's not the best way to fill in the missing age values. Let's try another way to fill the missing age values:"
   ],
   "metadata": {}
  },
  {
   "cell_type": "code",
   "execution_count": 361,
   "source": [
    "import random\r\n",
    "\r\n",
    "db_with_filled_na = db.copy()\r\n",
    "db_with_filled_na['Age'].fillna(axis=0, method='bfill', inplace=True)\r\n",
    "db_with_filled_na['Cabin'].fillna(lambda x: random.choice(db[db['Cabin'] != np.nan]['Cabin']), inplace=True)\r\n",
    "db_with_filled_na['Embarked'].fillna(lambda x: random.choice(db[db['Embarked'] != np.nan]['Embarked']), inplace=True)\r\n",
    "db_with_filled_na.isna().any()"
   ],
   "outputs": [
    {
     "output_type": "execute_result",
     "data": {
      "text/plain": [
       "PassengerId    False\n",
       "Pclass         False\n",
       "Name           False\n",
       "Sex            False\n",
       "Age            False\n",
       "SibSp          False\n",
       "Parch          False\n",
       "Ticket         False\n",
       "Fare           False\n",
       "Cabin          False\n",
       "Embarked       False\n",
       "Survived       False\n",
       "dtype: bool"
      ]
     },
     "metadata": {},
     "execution_count": 361
    }
   ],
   "metadata": {}
  },
  {
   "cell_type": "code",
   "execution_count": 362,
   "source": [
    "age_distribution = db_with_filled_na.groupby('Age', as_index=False).count()\r\n",
    "plt.title('Age distribution')\r\n",
    "plt.bar(age_distribution['Age'], age_distribution['PassengerId'])\r\n",
    "plt.xlabel('Age')\r\n",
    "plt.ylabel('People')\r\n",
    "plt.grid(10)\r\n",
    "\r\n",
    "plt.axvline(db_with_filled_na['Age'].mean(), color='r', linestyle='dashed', linewidth=2)\r\n",
    "min_ylim, max_ylim = plt.ylim()\r\n",
    "age_avg = db_with_filled_na['Age'].mean()\r\n",
    "plt.text(age_avg * 1.1, max_ylim * 0.9, 'Average: {:.3f}'.format(age_avg))\r\n",
    "\r\n",
    "plt.show()"
   ],
   "outputs": [
    {
     "output_type": "display_data",
     "data": {
      "image/png": "[encoded data removed]",
      "text/plain": [
       "<Figure size 432x288 with 1 Axes>"
      ]
     },
     "metadata": {
      "needs_background": "light"
     }
    }
   ],
   "metadata": {}
  },
  {
   "cell_type": "markdown",
   "source": [
    "It looks better."
   ],
   "metadata": {}
  },
  {
   "cell_type": "markdown",
   "source": [
    "### Great! Don't forget to submit before the deadline :)"
   ],
   "metadata": {}
  }
 ],
 "metadata": {
  "kernelspec": {
   "name": "python3",
   "display_name": "Python 3.8.7 64-bit ('venv': venv)"
  },
  "language_info": {
   "codemirror_mode": {
    "name": "ipython",
    "version": 3
   },
   "file_extension": ".py",
   "mimetype": "text/x-python",
   "name": "python",
   "nbconvert_exporter": "python",
   "pygments_lexer": "ipython3",
   "version": "3.8.7"
  },
  "interpreter": {
   "hash": "93a6a9b76bfd63e02ab1b2bd2e6bc5ff501c9330c8c8db6caa76d3262061148d"
  }
 },
 "nbformat": 4,
 "nbformat_minor": 4
}