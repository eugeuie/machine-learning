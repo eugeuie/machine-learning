{
 "cells": [
  {
   "cell_type": "markdown",
   "metadata": {},
   "source": [
    "# Lab 04. Text Classification\n",
    "\n",
    "\n",
    "This lab is devoted to text classification tasks.\n",
    "- **Part 1 [8 points]** is about very common NLP problem - sentiment analysis.\n",
    "- **Part 2 [7 points]** include tasks on POS tagging and WordEmbeddings.\n",
    "\n",
    "\n",
    "#### Evaluation\n",
    "\n",
    "Each task has its value, **15 points** in total. If you use some open-source code please make sure to include the url.\n",
    "\n",
    "#### How to submit\n",
    "\n",
    "- Name your file according to this convention: `lab04_GroupNo_Surname_Name.ipynb`. If you don't have group number, put `nan` instead.\n",
    "- Attach it to an **email** with **topic** `lab04_GroupNo_Surname_Name.ipynb`\n",
    "- Send it to `cosmic.research.ml@yandex.ru`\n",
    "\n",
    "\n",
    "Data can be dowloaded from: https://disk.yandex.ru/d/ixeu6m2KBG80ig\n",
    "\n",
    "The deadline is **2021-11-17 23:00:00 +03:00**"
   ]
  },
  {
   "cell_type": "markdown",
   "metadata": {},
   "source": [
    "## Part 1. Bag of Words vs. Bag of Popcorn [8 points]"
   ]
  },
  {
   "cell_type": "markdown",
   "metadata": {},
   "source": [
    "This task is based on [Bag of Words Meets Bags of Popcorn](https://www.kaggle.com/c/word2vec-nlp-tutorial/data) competition. The goal is to label film reviews as positive or negative. \n",
    "\n",
    "Reviews may look like this:\n",
    "\n",
    "```\n",
    "I dont know why people think this is such a bad movie. Its got a pretty good plot, some good action, and the change of location for Harry does not hurt either. Sure some of its offensive and gratuitous but this is not the only movie like that. Eastwood is in good form as Dirty Harry, and I liked Pat Hingle in this movie as the small town cop. If you liked DIRTY HARRY, then you should see this one, its a lot better than THE DEAD POOL. 4/5\n",
    "```"
   ]
  },
  {
   "cell_type": "code",
   "execution_count": 1,
   "metadata": {},
   "outputs": [],
   "source": [
    "import pandas as pd\n",
    "import numpy as np\n",
    "import matplotlib.pyplot as plt\n",
    "import nltk"
   ]
  },
  {
   "cell_type": "code",
   "execution_count": 2,
   "metadata": {},
   "outputs": [
    {
     "data": {
      "text/html": [
       "<div>\n",
       "<style scoped>\n",
       "    .dataframe tbody tr th:only-of-type {\n",
       "        vertical-align: middle;\n",
       "    }\n",
       "\n",
       "    .dataframe tbody tr th {\n",
       "        vertical-align: top;\n",
       "    }\n",
       "\n",
       "    .dataframe thead th {\n",
       "        text-align: right;\n",
       "    }\n",
       "</style>\n",
       "<table border=\"1\" class=\"dataframe\">\n",
       "  <thead>\n",
       "    <tr style=\"text-align: right;\">\n",
       "      <th></th>\n",
       "      <th>id</th>\n",
       "      <th>sentiment</th>\n",
       "      <th>review</th>\n",
       "    </tr>\n",
       "  </thead>\n",
       "  <tbody>\n",
       "    <tr>\n",
       "      <th>0</th>\n",
       "      <td>5814_8</td>\n",
       "      <td>1</td>\n",
       "      <td>With all this stuff going down at the moment w...</td>\n",
       "    </tr>\n",
       "    <tr>\n",
       "      <th>1</th>\n",
       "      <td>2381_9</td>\n",
       "      <td>1</td>\n",
       "      <td>\\The Classic War of the Worlds\\\" by Timothy Hi...</td>\n",
       "    </tr>\n",
       "    <tr>\n",
       "      <th>2</th>\n",
       "      <td>7759_3</td>\n",
       "      <td>0</td>\n",
       "      <td>The film starts with a manager (Nicholas Bell)...</td>\n",
       "    </tr>\n",
       "  </tbody>\n",
       "</table>\n",
       "</div>"
      ],
      "text/plain": [
       "       id  sentiment                                             review\n",
       "0  5814_8          1  With all this stuff going down at the moment w...\n",
       "1  2381_9          1  \\The Classic War of the Worlds\\\" by Timothy Hi...\n",
       "2  7759_3          0  The film starts with a manager (Nicholas Bell)..."
      ]
     },
     "execution_count": 2,
     "metadata": {},
     "output_type": "execute_result"
    }
   ],
   "source": [
    "reviews = pd.read_csv(\"data/reviews.tsv\", sep=\"\\t\")\n",
    "reviews.head(3)"
   ]
  },
  {
   "cell_type": "code",
   "execution_count": 3,
   "metadata": {},
   "outputs": [],
   "source": [
    "X = reviews[\"review\"]\n",
    "y = reviews[\"sentiment\"]\n",
    "\n",
    "SEED = 42"
   ]
  },
  {
   "cell_type": "code",
   "execution_count": 4,
   "metadata": {},
   "outputs": [],
   "source": [
    "from sklearn.model_selection import train_test_split"
   ]
  },
  {
   "cell_type": "code",
   "execution_count": 5,
   "metadata": {},
   "outputs": [],
   "source": [
    "X_train, X_test, y_train, y_test = train_test_split(X, y, test_size=5000, random_state=SEED, stratify=y)"
   ]
  },
  {
   "cell_type": "markdown",
   "metadata": {},
   "source": [
    "### Time to extract features\n",
    "\n",
    "In this part of the assignment we will apply several methods of feature extraction and compare them."
   ]
  },
  {
   "cell_type": "markdown",
   "metadata": {},
   "source": [
    "**Task 1.1 [0.5 point] - Simple BOW** \n",
    "\n",
    "In this task we will build a simple bow representation - without any preprocessing. \n",
    "\n",
    "For this purpose we will use [*CountVectorizer*](https://scikit-learn.org/stable/modules/generated/sklearn.feature_extraction.text.CountVectorizer.html#sklearn.feature_extraction.text.CountVectorizer) - a method that transforms text dataset into a [sparse matrix](https://docs.scipy.org/doc/scipy/reference/sparse.html)."
   ]
  },
  {
   "cell_type": "markdown",
   "metadata": {},
   "source": [
    "Import CountVectorizer:"
   ]
  },
  {
   "cell_type": "code",
   "execution_count": 6,
   "metadata": {},
   "outputs": [],
   "source": [
    "from sklearn.feature_extraction.text import CountVectorizer"
   ]
  },
  {
   "cell_type": "markdown",
   "metadata": {},
   "source": [
    "Now try each of these approaches:\n",
    "- fit vectorizer on X_train, apply to X_train, X_test\n",
    "- fit vectorizer on X_train, apply to X_train; fit on X_test, apply to X_test\n",
    "- fit vectorizer on X, apply to X_train, X_test\n",
    "\n",
    "Report output matrix sizes in each case. \n",
    "- What is the difference? \n",
    "- Which of these approaches is the most fair and correct?\n",
    "\n",
    "Use the most fair and correct one to get `X_train_0` and `X_test_0` - they will be needed for further tasks."
   ]
  },
  {
   "cell_type": "code",
   "execution_count": 7,
   "metadata": {},
   "outputs": [
    {
     "name": "stdout",
     "output_type": "stream",
     "text": [
      "X_train_0 matrix size is (20000, 68482), X_test_0 matrix size is (5000, 68482).\n"
     ]
    }
   ],
   "source": [
    "count_vectorizer = CountVectorizer()\n",
    "\n",
    "X_train_0 = count_vectorizer.fit_transform(X_train)\n",
    "X_test_0 = count_vectorizer.transform(X_test)\n",
    "\n",
    "print('X_train_0 matrix size is {}, X_test_0 matrix size is {}.'.format(X_train_0.shape, X_test_0.shape))"
   ]
  },
  {
   "cell_type": "code",
   "execution_count": 8,
   "metadata": {},
   "outputs": [
    {
     "name": "stdout",
     "output_type": "stream",
     "text": [
      "X_train_0 matrix size is (20000, 68482), X_test_0 matrix size is (5000, 38591).\n"
     ]
    }
   ],
   "source": [
    "count_vectorizer = CountVectorizer()\n",
    "\n",
    "X_train_0 = count_vectorizer.fit_transform(X_train)\n",
    "X_test_0 = count_vectorizer.fit_transform(X_test)\n",
    "\n",
    "print('X_train_0 matrix size is {}, X_test_0 matrix size is {}.'.format(X_train_0.shape, X_test_0.shape))"
   ]
  },
  {
   "cell_type": "code",
   "execution_count": 9,
   "metadata": {},
   "outputs": [
    {
     "name": "stdout",
     "output_type": "stream",
     "text": [
      "X_train_0 matrix size is (20000, 74849), X_test_0 matrix size is (5000, 74849).\n"
     ]
    }
   ],
   "source": [
    "count_vectorizer = CountVectorizer()\n",
    "\n",
    "count_vectorizer.fit(X)\n",
    "X_train_0 = count_vectorizer.transform(X_train)\n",
    "X_test_0 = count_vectorizer.transform(X_test)\n",
    "\n",
    "print('X_train_0 matrix size is {}, X_test_0 matrix size is {}.'.format(X_train_0.shape, X_test_0.shape))"
   ]
  },
  {
   "cell_type": "markdown",
   "metadata": {},
   "source": [
    "The difference is in the number of columns of matrices we got, because we fitted the vectorizer on `X_train`, `X_test` and `X`, which contain different numbers of words.\n",
    "\n",
    "We need to have the similar set of features for the training and test set, the second approach does not provide this. Neither `X_train` nor `X_test` contain all words from `X`, so training the vectorizer on `X` is redundant, therefore we will not use the third approach. It turns out the first approach is the most fair and correct, we will use this approach."
   ]
  },
  {
   "cell_type": "code",
   "execution_count": 10,
   "metadata": {},
   "outputs": [
    {
     "name": "stdout",
     "output_type": "stream",
     "text": [
      "X_train_0 matrix size is (20000, 68482), X_test_0 matrix size is (5000, 68482).\n"
     ]
    }
   ],
   "source": [
    "count_vectorizer = CountVectorizer()\n",
    "\n",
    "X_train_0 = count_vectorizer.fit_transform(X_train)\n",
    "X_test_0 = count_vectorizer.transform(X_test)\n",
    "\n",
    "print('X_train_0 matrix size is {}, X_test_0 matrix size is {}.'.format(X_train_0.shape, X_test_0.shape))"
   ]
  },
  {
   "cell_type": "markdown",
   "metadata": {},
   "source": [
    "**Task 1.2 [0.5 point] - S___se matrices**\n",
    "\n",
    "What is the data type of `X_train_0` and `X_test_0`? What are those?\n",
    "\n",
    "What differs them from usual np.arrays? Name several types how those special matrices are stored and what they are good for."
   ]
  },
  {
   "cell_type": "code",
   "execution_count": 11,
   "metadata": {},
   "outputs": [
    {
     "data": {
      "text/plain": [
       "(scipy.sparse.csr.csr_matrix, scipy.sparse.csr.csr_matrix)"
      ]
     },
     "execution_count": 11,
     "metadata": {},
     "output_type": "execute_result"
    }
   ],
   "source": [
    "type(X_train_0), type(X_test_0)"
   ]
  },
  {
   "cell_type": "markdown",
   "metadata": {},
   "source": [
    "*Answer:*\n",
    "\n",
    "The data type of `X_train_0` and `X_test_0` is scipy.sparse.csr.csr_matrix (Compressed Sparse Row matrix). This is one of the special SciPy data types for storing sparse matrices, i.e. matrices in which most of the elements are zero.\n",
    "\n",
    "np.array stores values of all matrix elements, while the Compressed Sparse Row matrix is represented using three one-dimensional arrays for the non-zero values, the extents of the rows, and the column indexes. SciPy has other data types for storing sparse matrices. The Compressed Sparse Column matrix is the same as the Compressed Sparse Row matrix except the column indices are compressed and read first before the row indices. The Compressed Sparse Row matrix and the Compressed Sparse Column matrix data types provide efficient arithmetic operations, efficient slicing and fast matrix vector products.  In the Dictionary Of Keys based sparse matrix a dictionary is used where a row and column index is mapped to a value. This is an efficient structure for constructing sparse matrices incrementally. All these data types reduce memory usage in the case of sparse matrices. [See more](https://machinelearningmastery.com/sparse-matrices-for-machine-learning/)"
   ]
  },
  {
   "cell_type": "markdown",
   "metadata": {},
   "source": [
    "**Task 1.3 [1 points] - Training**\n",
    "\n",
    "Train LogisticRegression and Random forest on this data representations.\n",
    "- Compare training time \n",
    "- Compare Accuracy, precision, recall \n",
    "- Plot ROC Curve and calculate ROC AUC (don't forget to predict_proba) \n",
    "- Plot Precision-Recall curve and calculate f1-score (for example, with `plt.subplots(nrows=1, ncols=2)`)\n",
    "- Print the trickiest misclassified objects. Why they were hard to classify? \n"
   ]
  },
  {
   "cell_type": "code",
   "execution_count": 12,
   "metadata": {},
   "outputs": [],
   "source": [
    "from sklearn.ensemble import RandomForestClassifier\n",
    "from sklearn.linear_model import LogisticRegression\n",
    "import time as tm"
   ]
  },
  {
   "cell_type": "code",
   "execution_count": 13,
   "metadata": {},
   "outputs": [],
   "source": [
    "from sklearn.metrics import accuracy_score, precision_score, recall_score\n",
    "from sklearn.metrics import f1_score, precision_recall_curve, roc_curve, roc_auc_score"
   ]
  },
  {
   "cell_type": "code",
   "execution_count": 14,
   "metadata": {},
   "outputs": [],
   "source": [
    "rf_model = RandomForestClassifier(n_estimators=500, random_state=SEED)\n",
    "lr_model = LogisticRegression(max_iter=1e5, random_state=SEED)"
   ]
  },
  {
   "cell_type": "code",
   "execution_count": 15,
   "metadata": {},
   "outputs": [
    {
     "name": "stdout",
     "output_type": "stream",
     "text": [
      "RandomForestClassifier(n_estimators=500, random_state=42) training took 321.764 seconds\n"
     ]
    }
   ],
   "source": [
    "start = tm.time()\n",
    "rf_model.fit(X_train_0, y_train)\n",
    "end = tm.time()\n",
    "print(\"{} training took {:.3f} seconds\".format(rf_model, end - start))"
   ]
  },
  {
   "cell_type": "code",
   "execution_count": 16,
   "metadata": {},
   "outputs": [
    {
     "name": "stdout",
     "output_type": "stream",
     "text": [
      "LogisticRegression(max_iter=100000.0, random_state=42) training took 19.283 seconds\n"
     ]
    }
   ],
   "source": [
    "start = tm.time()\n",
    "lr_model.fit(X_train_0, y_train)\n",
    "end = tm.time()\n",
    "print(\"{} training took {:.3f} seconds\".format(lr_model, end - start))"
   ]
  },
  {
   "cell_type": "markdown",
   "metadata": {},
   "source": [
    "The LogisticRegression model trained significantly faster than the RandomForestClassifier model."
   ]
  },
  {
   "cell_type": "code",
   "execution_count": 17,
   "metadata": {},
   "outputs": [
    {
     "name": "stdout",
     "output_type": "stream",
     "text": [
      "RandomForestClassifier(n_estimators=500, random_state=42) accuracy is 0.861\n",
      "LogisticRegression(max_iter=100000.0, random_state=42) accuracy is 0.882\n",
      "\n",
      "RandomForestClassifier(n_estimators=500, random_state=42) precision is 0.850\n",
      "LogisticRegression(max_iter=100000.0, random_state=42) precision is 0.876\n",
      "\n",
      "RandomForestClassifier(n_estimators=500, random_state=42) recall is 0.876\n",
      "LogisticRegression(max_iter=100000.0, random_state=42) recall is 0.890\n",
      "\n"
     ]
    }
   ],
   "source": [
    "rf_pred = rf_model.predict(X_test_0)\n",
    "lr_pred = lr_model.predict(X_test_0)\n",
    "\n",
    "print(\"{} accuracy is {:.3f}\".format(rf_model, accuracy_score(y_test, rf_pred)))\n",
    "print(\"{} accuracy is {:.3f}\\n\".format(lr_model, accuracy_score(y_test, lr_pred)))\n",
    "\n",
    "print(\"{} precision is {:.3f}\".format(rf_model, precision_score(y_test, rf_pred)))\n",
    "print(\"{} precision is {:.3f}\\n\".format(lr_model, precision_score(y_test, lr_pred)))\n",
    "\n",
    "print(\"{} recall is {:.3f}\".format(rf_model, recall_score(y_test, rf_pred)))\n",
    "print(\"{} recall is {:.3f}\\n\".format(lr_model, recall_score(y_test, lr_pred)))"
   ]
  },
  {
   "cell_type": "markdown",
   "metadata": {},
   "source": [
    "The LogisticRegression model has higher accuracy, precision and recall than the RandomForestClassifier model."
   ]
  },
  {
   "cell_type": "code",
   "execution_count": 18,
   "metadata": {},
   "outputs": [
    {
     "data": {
      "image/png": "[encoded data removed]",
      "text/plain": [
       "<Figure size 864x576 with 1 Axes>"
      ]
     },
     "metadata": {
      "needs_background": "light"
     },
     "output_type": "display_data"
    }
   ],
   "source": [
    "rf_pred_proba = rf_model.predict_proba(X_test_0)\n",
    "lr_pred_proba = lr_model.predict_proba(X_test_0)\n",
    "rf_false_positive_rate, rf_true_positive_rate, rf_threshholds = roc_curve(y_test, rf_pred_proba[:, 1])\n",
    "rf_auc = roc_auc_score(y_test, rf_pred_proba[:, 1])\n",
    "lr_false_positive_rate, lr_true_positive_rate, lr_threshholds = roc_curve(y_test, lr_pred_proba[:, 1])\n",
    "lr_auc = roc_auc_score(y_test, lr_pred_proba[:, 1])\n",
    "\n",
    "fig, ax = plt.subplots(figsize=(12, 8))\n",
    "ax.plot(rf_false_positive_rate, rf_true_positive_rate, label=\"{} (AUC = {:.2f})\".format(rf_model.__class__.__name__, rf_auc))\n",
    "ax.plot(lr_false_positive_rate, lr_true_positive_rate, label=\"{} (AUC = {:.2f})\".format(lr_model.__class__.__name__, lr_auc))\n",
    "ax.set(xlabel=\"False Positive Rate\", ylabel=\"True Positive Rate\")\n",
    "ax.legend(loc=\"lower right\")\n",
    "ax.set_title(\"Receiver Operating Characteristic (ROC)\")\n",
    "plt.show()"
   ]
  },
  {
   "cell_type": "markdown",
   "metadata": {},
   "source": [
    "The LogisticRegression model has a larger Area Under the Receiver Operating Characteristic Curve (ROC AUC) than the RandomForestClassifier model."
   ]
  },
  {
   "cell_type": "code",
   "execution_count": 19,
   "metadata": {},
   "outputs": [
    {
     "data": {
      "image/png": "[encoded data removed]",
      "text/plain": [
       "<Figure size 864x576 with 1 Axes>"
      ]
     },
     "metadata": {
      "needs_background": "light"
     },
     "output_type": "display_data"
    }
   ],
   "source": [
    "rf_precision, rf_recall, rf_threshholds = precision_recall_curve(y_test, rf_pred_proba[:, 1])\n",
    "rf_f1_score = f1_score(y_test, rf_pred)\n",
    "lr_precision, lr_recall, lr_threshholds = precision_recall_curve(y_test, lr_pred_proba[:, 1])\n",
    "lr_f1_score = f1_score(y_test, lr_pred)\n",
    "\n",
    "fig, ax = plt.subplots(figsize=(12, 8))\n",
    "ax.plot(rf_recall, rf_precision, label=\"{} (F1 score = {:.2f})\".format(rf_model.__class__.__name__, rf_f1_score))\n",
    "ax.plot(lr_recall, lr_precision, label=\"{} (F1 score = {:.2f})\".format(lr_model.__class__.__name__, lr_f1_score))\n",
    "ax.set(xlabel=\"Recall\", ylabel=\"Precision\")\n",
    "ax.legend(loc=\"lower left\")\n",
    "ax.set_title(\"Precision-Recall Curve\")\n",
    "plt.show()"
   ]
  },
  {
   "cell_type": "markdown",
   "metadata": {},
   "source": [
    "The LogisticRegression model has higher F1 score than the RandomForestClassifier model."
   ]
  },
  {
   "cell_type": "code",
   "execution_count": 20,
   "metadata": {},
   "outputs": [
    {
     "data": {
      "text/html": [
       "<div>\n",
       "<style scoped>\n",
       "    .dataframe tbody tr th:only-of-type {\n",
       "        vertical-align: middle;\n",
       "    }\n",
       "\n",
       "    .dataframe tbody tr th {\n",
       "        vertical-align: top;\n",
       "    }\n",
       "\n",
       "    .dataframe thead th {\n",
       "        text-align: right;\n",
       "    }\n",
       "</style>\n",
       "<table border=\"1\" class=\"dataframe\">\n",
       "  <thead>\n",
       "    <tr style=\"text-align: right;\">\n",
       "      <th></th>\n",
       "      <th>review</th>\n",
       "      <th>sentiment</th>\n",
       "    </tr>\n",
       "  </thead>\n",
       "  <tbody>\n",
       "    <tr>\n",
       "      <th>22932</th>\n",
       "      <td>Chinese Ghost Story III is a totally superfluo...</td>\n",
       "      <td>0</td>\n",
       "    </tr>\n",
       "    <tr>\n",
       "      <th>7454</th>\n",
       "      <td>Verhoeven's movie was utter and complete garba...</td>\n",
       "      <td>1</td>\n",
       "    </tr>\n",
       "    <tr>\n",
       "      <th>6955</th>\n",
       "      <td>This is a generally nice film, with good story...</td>\n",
       "      <td>1</td>\n",
       "    </tr>\n",
       "    <tr>\n",
       "      <th>19780</th>\n",
       "      <td>Charleton Heston wore one, James Franciscus wo...</td>\n",
       "      <td>1</td>\n",
       "    </tr>\n",
       "    <tr>\n",
       "      <th>6547</th>\n",
       "      <td>After perusing the large amount of comments on...</td>\n",
       "      <td>0</td>\n",
       "    </tr>\n",
       "    <tr>\n",
       "      <th>...</th>\n",
       "      <td>...</td>\n",
       "      <td>...</td>\n",
       "    </tr>\n",
       "    <tr>\n",
       "      <th>5703</th>\n",
       "      <td>Cornel Wilde and three dumbbells search for su...</td>\n",
       "      <td>0</td>\n",
       "    </tr>\n",
       "    <tr>\n",
       "      <th>4299</th>\n",
       "      <td>When this play was first shown by the BBC over...</td>\n",
       "      <td>0</td>\n",
       "    </tr>\n",
       "    <tr>\n",
       "      <th>13424</th>\n",
       "      <td>A still famous but decadent actor (Morgan Free...</td>\n",
       "      <td>0</td>\n",
       "    </tr>\n",
       "    <tr>\n",
       "      <th>4617</th>\n",
       "      <td>I saw this when it was in the theater, it star...</td>\n",
       "      <td>0</td>\n",
       "    </tr>\n",
       "    <tr>\n",
       "      <th>13600</th>\n",
       "      <td>Nifty little episode played mainly for laughs,...</td>\n",
       "      <td>1</td>\n",
       "    </tr>\n",
       "  </tbody>\n",
       "</table>\n",
       "<p>591 rows × 2 columns</p>\n",
       "</div>"
      ],
      "text/plain": [
       "                                                  review  sentiment\n",
       "22932  Chinese Ghost Story III is a totally superfluo...          0\n",
       "7454   Verhoeven's movie was utter and complete garba...          1\n",
       "6955   This is a generally nice film, with good story...          1\n",
       "19780  Charleton Heston wore one, James Franciscus wo...          1\n",
       "6547   After perusing the large amount of comments on...          0\n",
       "...                                                  ...        ...\n",
       "5703   Cornel Wilde and three dumbbells search for su...          0\n",
       "4299   When this play was first shown by the BBC over...          0\n",
       "13424  A still famous but decadent actor (Morgan Free...          0\n",
       "4617   I saw this when it was in the theater, it star...          0\n",
       "13600  Nifty little episode played mainly for laughs,...          1\n",
       "\n",
       "[591 rows x 2 columns]"
      ]
     },
     "execution_count": 20,
     "metadata": {},
     "output_type": "execute_result"
    }
   ],
   "source": [
    "misclassified_objects_indices = y_test.index[y_test != lr_pred]\n",
    "misclassified_objects = {\n",
    "    'review': X_test[misclassified_objects_indices],\n",
    "    'sentiment': y_test[misclassified_objects_indices]\n",
    "}\n",
    "misclassified_objects = pd.DataFrame(misclassified_objects)\n",
    "misclassified_objects"
   ]
  },
  {
   "cell_type": "code",
   "execution_count": 21,
   "metadata": {},
   "outputs": [
    {
     "name": "stdout",
     "output_type": "stream",
     "text": [
      "Review:\n",
      "Chinese Ghost Story III is a totally superfluous sequel to two excellent fantasy films. The film delivers the spell-casting special effects that one can expect, but fails painfully on all other fronts. The actors all play extremely silly caricatures. You have to be still in diapers to find their slapstick humor even remotely funny. The plot is predictable, and the development is sometimes erratic and often slow. Towards the end, the movie begins to resemble old Godzilla films, including shabby larger-than-life special effects and a (well, yet another) ghost with a Godzilla head. Maybe I would have grinned if I was expecting camp.<br /><br />It is astonishing to see what trash fantasy fans have to put up with - in this case because somebody thought they could squeeze a little extra money out of a successful formula. They won't be able to do it again: the cash cow is now dead as a dodo.\n",
      "Sentiment: 0\n",
      "\n",
      "Review:\n",
      "Verhoeven's movie was utter and complete garbage. He's a disgusting hack of a director and should be ashamed. By his own admission, he read 2 chapters of the book, got bored, and decided to make the whole thing up from scratch.<br /><br />Heinlein would have NEVER supported that trash if he'd been alive to see it. It basically steals the name, mocks politics of the book (which is a good portion of it), and throws in some T&A so the average idiot American moviegoer doesn't get bored.<br /><br />This anime isn't perfect, but it's at least mostly accurate, as best I can tell.\n",
      "Sentiment: 1\n",
      "\n",
      "Review:\n",
      "This is a generally nice film, with good story, great actors and great songs. The cinematography was unfortunately bad. One of the film's weakest points is the annoying chain of sequences copied from Pretty Woman. Why? Does it hurt to attempt some originality, Abbas? Mustan? Anyone?<br /><br />The film is about a newly married couple, Raj and Priya (Salman - Rani). Priya cannot conceive after an accident she had during the previous pregnancy, and they finally decide to use a surrogate mother, who will carry their child. They pick Madhubala, a vulgar prostitute played by Preity Zinta. The film is not really realistic, I mean, isn't it easier to adopt? And even if they pick a girl, does it mean the man has to sleep with her? Have you heard of insemination? Anyway, I guess if the writers had heard of all this, the film wouldn't have been made, so the concept is apparently intentional.<br /><br />Salman acts very well. It's nice to see him playing a serious character. But his character suffers from unnecessary and cheap dialogues about his great love to his wife and how hard he finds it to sleep with another woman. Come on, it's cheesy and unrealistic. Rani is just about OK; she is generally effective and does try to do something with the role but gets completely overshadowed by Preity Zinta.<br /><br />The film belongs to Preity, who steals the show in a big way with her flawless performance. She makes the transformation from a loud prostitute to a sensitive woman easily and naturally. She lives the film, emotes and makes you love her and admire her at the same time, partly because of her role, partly because of her magnetic and positive personality. This is one of her career-best performances. There is no doubt she is more talented than her industry contemporaries. She just should do more such roles.<br /><br />The film's ending only highlights what I said above. It is tear-jerking, exciting and very well-acted. Watch it for Preity.<br /><br />7/10 for the film! 10/10 - for Preity!\n",
      "Sentiment: 1\n",
      "\n",
      "Review:\n",
      "Charleton Heston wore one, James Franciscus wore one but Mark Wahlberg opts not to don the traditional loin cloth. I hope no one casts him as Tarzan. Linda Harrison wore a bikini in the first 2 Planet movies but Estrella Warren barely shows cleavage - her hair is always in the way. Tim Burton could have sexed up this simian saga & given the adults in the audience something to look at. Even the chaste Helena Bonham Carter never gets out of her costume which looks like a large curtain. She's cute but all the the love stuff is restricted to anxious looks & a little bitty kiss at the end. As in Artificial Intelligence which discusses inter species sex between robots & humans but never delivers - Planet of the Apes hints at inter species romance between the humans & the apes but only hints. Lisa Marie is the only ape that dares to be sexy. This movie has three great actors Tim Roth, Ms. Carter & Paul Giamatti chewing up the scenery as a trio of apes & they are fun to watch. Superlative make up (a certain Oscar) costumes, sets, music make this the hit summer movie of 2001.\n",
      "Sentiment: 1\n",
      "\n",
      "Review:\n",
      "After perusing the large amount of comments on this movie it is clear that there are two kinds of science fiction movie-goers. There are the ones who are well read, extremely literate, and intelligent. They know the history of the genre and more importantly they know to what heights it can reach in the hands of a gifted author. For many years science fiction languished in the basement of literature. Considered my most critic to be little more than stories of ray guns and aliens meant for pre-pubescent teenagers. Today's well read fan knows well this history, and knows the great authors Asimov, Heinlein, Bradbury, and Ellison, who helped bring science fiction out of that basement. In doing so they created thought provoking, intelligent stories that stretched the boundaries and redefined the human condition. This well informed fans are critical of anything Hollywood throws at them. They are not critical for it's own sake, but look upon each offering with a skeptical eye. (As they should as Hollywood's record has been less than stellar.) To these fans the story must take supreme importance. They cannot be fooled by flashy computer graphics, and non stop action sequences. When the emperor has no clothes they scream it the loudest.<br /><br />The second type of science fiction movie goer has little knowledge about the written aspect of the genre. (Look at many of the above comments that state \\Well I haven't read the book or anything by this author...) Their total exposure to science fiction is from movies or the Scifi channel. They are extremely uncritical, willing to overlook huge plot holes, weak premises, and thin story lines if they are given a healthy dose of wiz bang action and awesome special effects. They are, in effect, willing to turn off their critical thinking skills (or maybe they never had them!) for the duration of the movie. Case in point, I Robot. While supposedly based on Asimov's short stories and named after one of his novels, it contains little of what Asimov wrote and even less of what he tried to tell us about humanity and our robotic creations. (Those of you that will run out and buy I, Robot will be very much surprised-this movie isn't even based on that story at all!) <br /><br />The film has enormous plot holes, that at some points are stretched to the limits of credulity. I won't point them out. I won't spoon feed you. You need to practice you thinking skills and discover them for yourself. The characters, which are named after many of Asimov's characters, do not possess the critical intelligence that was a hallmark of his stories. The plot itself with all it's action sequences goes against everything that the author stood for. His belief that humanity possesses the capacity to solve problems using their minds, not their fists, is vital to understanding his vision of the future. In short, other than the name, their is very little of Isaac in anything about this movie. There will always be those uncritical (i.e. unthinking) who will state: \\\"The movie doesn't have to be like the book. Due to the medium, movies sometimes require that changes be made.\\\" But what about a case where the movie never even tried to stay close to the book (or books) from the start? What if all they took from the written work was the title? This begs the question: Why tarnish a great body of work by slapping it's title on your vacuous piece of crap? Save money and don't buy the rights to the works. Title it something else. Don't use the character's names. Believe me no one will accuse you of plagiarism. In fact it won't matter what you title it to the unread moviegoer who accepts everything you throw at him. But it will upset those who read, who think, who are unwilling to simply let you give them a pretty light show. <br /><br />I, Robot, like much of Hollywood's take on the genre, pushes Science fiction back down into that basement it lived in years ago. Hollywood could not do this alone. It takes an uncritical mindless audience that will accept puerile dredge like this.\"\n",
      "Sentiment: 0\n",
      "\n"
     ]
    }
   ],
   "source": [
    "head = misclassified_objects.head()\n",
    "for review, sentiment in zip(head.review, head.sentiment):\n",
    "    print(\"Review:\\n{}\\nSentiment: {}\\n\".format(review, sentiment))"
   ]
  },
  {
   "cell_type": "markdown",
   "metadata": {},
   "source": [
    "As far as I have noticed, after reading a few misclassified reviews, they contain many words that would indicate they are in the opposite class, contain sarcasm, or their sentiment is difficult to determine even by a person, so it was hard to classify them."
   ]
  },
  {
   "cell_type": "markdown",
   "metadata": {},
   "source": [
    "Which model gives higher scores? Any ideas why? Please suggest 1-2 reasons.\n",
    "\n",
    "*Answer:*\n",
    "\n",
    "The LogisticRegression model gives higher scores. This may be so because the data turned out to be linearly separable, and the LogisticRegression model is designed to classify linearly separable data."
   ]
  },
  {
   "cell_type": "markdown",
   "metadata": {},
   "source": [
    "### More sophisticated feature prerocessing\n",
    "\n",
    "As we have seen, simple BOW can give us some result - it's time to improve it.\n",
    "\n",
    "**Task 1.4 [1 point] - Frequencies calculation**\n",
    "\n",
    "- Calculate top-20 words in train set and test set. *Are they meaningful?*\n",
    "- Import `stopwords` and print some of them. What are those?\n",
    "- Recalculate top-20 words in each set, but exclude stop words.\n",
    "- Does now top-20 include more useful words?"
   ]
  },
  {
   "cell_type": "code",
   "execution_count": 22,
   "metadata": {},
   "outputs": [],
   "source": [
    "from collections import Counter\n",
    "from nltk.tokenize import WhitespaceTokenizer, WordPunctTokenizer, TreebankWordTokenizer\n",
    "from nltk.corpus import stopwords"
   ]
  },
  {
   "cell_type": "code",
   "execution_count": 23,
   "metadata": {},
   "outputs": [],
   "source": [
    "train_words = []\n",
    "for review in X_train:\n",
    "    train_words += TreebankWordTokenizer().tokenize(review)\n",
    "\n",
    "test_words = []\n",
    "for review in X_test:\n",
    "    test_words += TreebankWordTokenizer().tokenize(review)"
   ]
  },
  {
   "cell_type": "code",
   "execution_count": 24,
   "metadata": {},
   "outputs": [
    {
     "data": {
      "text/plain": [
       "[('the', 231895),\n",
       " (',', 221238),\n",
       " ('and', 125458),\n",
       " ('a', 125014),\n",
       " ('of', 115065),\n",
       " ('to', 106674),\n",
       " ('is', 86966),\n",
       " ('/', 81829),\n",
       " ('>', 81789),\n",
       " ('<', 81742),\n",
       " ('br', 81648),\n",
       " ('in', 69160),\n",
       " ('I', 65010),\n",
       " ('it', 57345),\n",
       " ('that', 55632),\n",
       " (\"''\", 52892),\n",
       " (\"'s\", 49352),\n",
       " ('this', 47765),\n",
       " ('was', 39726),\n",
       " ('as', 34629)]"
      ]
     },
     "execution_count": 24,
     "metadata": {},
     "output_type": "execute_result"
    }
   ],
   "source": [
    "Counter(train_words).most_common(20)"
   ]
  },
  {
   "cell_type": "code",
   "execution_count": 25,
   "metadata": {},
   "outputs": [
    {
     "data": {
      "text/plain": [
       "[('the', 57274),\n",
       " (',', 54649),\n",
       " ('a', 31031),\n",
       " ('and', 30817),\n",
       " ('of', 28421),\n",
       " ('to', 26454),\n",
       " ('is', 21371),\n",
       " ('/', 20265),\n",
       " ('>', 20247),\n",
       " ('<', 20229),\n",
       " ('br', 20222),\n",
       " ('in', 17501),\n",
       " ('I', 16030),\n",
       " ('it', 14080),\n",
       " ('that', 13637),\n",
       " (\"''\", 13013),\n",
       " (\"'s\", 12146),\n",
       " ('this', 11701),\n",
       " ('was', 9827),\n",
       " ('as', 8849)]"
      ]
     },
     "execution_count": 25,
     "metadata": {},
     "output_type": "execute_result"
    }
   ],
   "source": [
    "Counter(test_words).most_common(20)"
   ]
  },
  {
   "cell_type": "markdown",
   "metadata": {},
   "source": [
    "Top-20 words in train set and test set are articles, prepositions and punctuation marks that are meaningless for our purposes."
   ]
  },
  {
   "cell_type": "code",
   "execution_count": 26,
   "metadata": {},
   "outputs": [
    {
     "name": "stderr",
     "output_type": "stream",
     "text": [
      "[nltk_data] Downloading package stopwords to\n",
      "[nltk_data]     C:\\Users\\Evgenia\\AppData\\Roaming\\nltk_data...\n",
      "[nltk_data]   Package stopwords is already up-to-date!\n"
     ]
    },
    {
     "data": {
      "text/plain": [
       "True"
      ]
     },
     "execution_count": 26,
     "metadata": {},
     "output_type": "execute_result"
    }
   ],
   "source": [
    "nltk.download('stopwords')"
   ]
  },
  {
   "cell_type": "code",
   "execution_count": 27,
   "metadata": {},
   "outputs": [
    {
     "name": "stdout",
     "output_type": "stream",
     "text": [
      "['i', 'me', 'my', 'myself', 'we', 'our', 'ours', 'ourselves', 'you', \"you're\", \"you've\", \"you'll\", \"you'd\", 'your', 'yours', 'yourself', 'yourselves', 'he', 'him', 'his', 'himself', 'she', \"she's\", 'her', 'hers', 'herself', 'it', \"it's\", 'its', 'itself', 'they', 'them', 'their', 'theirs', 'themselves', 'what', 'which', 'who', 'whom', 'this', 'that', \"that'll\", 'these', 'those', 'am', 'is', 'are', 'was', 'were', 'be', 'been', 'being', 'have', 'has', 'had', 'having', 'do', 'does', 'did', 'doing', 'a', 'an', 'the', 'and', 'but', 'if', 'or', 'because', 'as', 'until', 'while', 'of', 'at', 'by', 'for', 'with', 'about', 'against', 'between', 'into', 'through', 'during', 'before', 'after', 'above', 'below', 'to', 'from', 'up', 'down', 'in', 'out', 'on', 'off', 'over', 'under', 'again', 'further', 'then', 'once', 'here', 'there', 'when', 'where', 'why', 'how', 'all', 'any', 'both', 'each', 'few', 'more', 'most', 'other', 'some', 'such', 'no', 'nor', 'not', 'only', 'own', 'same', 'so', 'than', 'too', 'very', 's', 't', 'can', 'will', 'just', 'don', \"don't\", 'should', \"should've\", 'now', 'd', 'll', 'm', 'o', 're', 've', 'y', 'ain', 'aren', \"aren't\", 'couldn', \"couldn't\", 'didn', \"didn't\", 'doesn', \"doesn't\", 'hadn', \"hadn't\", 'hasn', \"hasn't\", 'haven', \"haven't\", 'isn', \"isn't\", 'ma', 'mightn', \"mightn't\", 'mustn', \"mustn't\", 'needn', \"needn't\", 'shan', \"shan't\", 'shouldn', \"shouldn't\", 'wasn', \"wasn't\", 'weren', \"weren't\", 'won', \"won't\", 'wouldn', \"wouldn't\"]\n"
     ]
    }
   ],
   "source": [
    "stopwords = stopwords.words('english')\n",
    "print(stopwords)"
   ]
  },
  {
   "cell_type": "markdown",
   "metadata": {},
   "source": [
    "Stop words are a set of commonly used low information words in a language."
   ]
  },
  {
   "cell_type": "code",
   "execution_count": 28,
   "metadata": {},
   "outputs": [],
   "source": [
    "train_words = [word.lower() for word in train_words if word.isalpha() and word != 'br']\n",
    "test_words = [word.lower() for word in test_words if word.isalpha() and word != 'br']\n",
    "train_words = list(filter(lambda word: word not in stopwords, train_words))\n",
    "test_words = list(filter(lambda word: word not in stopwords, test_words))"
   ]
  },
  {
   "cell_type": "code",
   "execution_count": 29,
   "metadata": {},
   "outputs": [
    {
     "data": {
      "text/plain": [
       "[('movie', 30201),\n",
       " ('film', 27751),\n",
       " ('one', 20038),\n",
       " ('like', 15737),\n",
       " ('good', 10701),\n",
       " ('would', 10664),\n",
       " ('even', 10139),\n",
       " ('really', 9277),\n",
       " ('see', 8898),\n",
       " ('story', 8370),\n",
       " ('time', 8056),\n",
       " ('much', 7469),\n",
       " ('could', 7431),\n",
       " ('get', 7253),\n",
       " ('also', 7243),\n",
       " ('first', 6972),\n",
       " ('people', 6962),\n",
       " ('great', 6800),\n",
       " ('well', 6755),\n",
       " ('bad', 6453)]"
      ]
     },
     "execution_count": 29,
     "metadata": {},
     "output_type": "execute_result"
    }
   ],
   "source": [
    "Counter(train_words).most_common(20)"
   ]
  },
  {
   "cell_type": "code",
   "execution_count": 30,
   "metadata": {},
   "outputs": [
    {
     "data": {
      "text/plain": [
       "[('movie', 7243),\n",
       " ('film', 6717),\n",
       " ('one', 4793),\n",
       " ('like', 3862),\n",
       " ('good', 2790),\n",
       " ('would', 2671),\n",
       " ('even', 2441),\n",
       " ('really', 2272),\n",
       " ('see', 2129),\n",
       " ('story', 2065),\n",
       " ('time', 2060),\n",
       " ('get', 1879),\n",
       " ('could', 1876),\n",
       " ('much', 1782),\n",
       " ('also', 1767),\n",
       " ('first', 1723),\n",
       " ('great', 1690),\n",
       " ('well', 1660),\n",
       " ('people', 1656),\n",
       " ('bad', 1607)]"
      ]
     },
     "execution_count": 30,
     "metadata": {},
     "output_type": "execute_result"
    }
   ],
   "source": [
    "Counter(test_words).most_common(20)"
   ]
  },
  {
   "cell_type": "markdown",
   "metadata": {},
   "source": [
    "Now top-20 words in train set and test set include more useful words."
   ]
  },
  {
   "cell_type": "markdown",
   "metadata": {},
   "source": [
    "**Task 1.5 [1 point] - Word Freqs by class**\n",
    "\n",
    "How do you think, will top100 tokens for positive and negative classes be different? Use data to prove your point."
   ]
  },
  {
   "cell_type": "markdown",
   "metadata": {},
   "source": [
    "*Answer:*\n",
    "\n",
    "I assume that if we compare the top-100 words of the positive and negative classes, considering the order of words in the top-100, we will get few matches. However, if we compare sets of the top-100 words of the positive and negative classes, there will be many matches, because they will be some frequently used common words, like \"movie\" or \"see\"."
   ]
  },
  {
   "cell_type": "code",
   "execution_count": 31,
   "metadata": {},
   "outputs": [
    {
     "name": "stdout",
     "output_type": "stream",
     "text": [
      "Number of matches if we consider the order of words in top-100 is 4\n",
      "Number of matches if we don't consider the order of words in top-100 is 82\n"
     ]
    }
   ],
   "source": [
    "positive_reviews = X[y == 1]\n",
    "negative_reviews = X[y == 0]\n",
    "\n",
    "positive_words = []\n",
    "for review in positive_reviews:\n",
    "    positive_words += TreebankWordTokenizer().tokenize(review)\n",
    "negative_words = []\n",
    "for review in negative_reviews:\n",
    "    negative_words += TreebankWordTokenizer().tokenize(review)\n",
    "\n",
    "positive_words = [word.lower() for word in positive_words if word.isalpha() and word != 'br']\n",
    "negative_words = [word.lower() for word in negative_words if word.isalpha() and word != 'br']\n",
    "positive_words = list(filter(lambda word: word not in stopwords, positive_words))\n",
    "negative_words = list(filter(lambda word: word not in stopwords, negative_words))\n",
    "\n",
    "top_positive_words = [pair[0] for pair in Counter(positive_words).most_common(100)]\n",
    "top_negative_words = [pair[0] for pair in Counter(negative_words).most_common(100)]\n",
    "\n",
    "print(\"Number of matches if we consider the order of words in top-100 is {}\".format(sum(list(map(lambda positive_word, negative_word: positive_word == negative_word, top_positive_words, top_negative_words)))))\n",
    "print(\"Number of matches if we don't consider the order of words in top-100 is {}\".format(len(set(top_positive_words).intersection(set(top_negative_words)))))"
   ]
  },
  {
   "cell_type": "markdown",
   "metadata": {},
   "source": [
    "**Task 1.6 [2 points] - Reducing dimensionality**\n",
    "\n",
    "The goal is to reduce number of features to 15000.\n",
    "\n",
    "Implement the following methods of dimensinality reduction:\n",
    "1. Use CountVectorizer, but leave only 15k most frequent tokens\n",
    "2. Use HashingVectorizer with 15k features\n",
    "3. Use 15k most important features from perspective of previously trained RandomForest\n",
    "\n",
    "*Hints:*\n",
    "- in 1 and 2 you don't have to apply nltk.corpus.stopwords, vectorizers have `stopwords` parameter\n",
    "- in 1 look for `vocabulary` parameter\n",
    "- in 3... remember `lab02`? You may use `X_train_0` and `X_test_0` as input matrices\n",
    "\n",
    "Train LogisticRegression and RandomForest on each dataset and compare ROC AUC scores of the classifiers."
   ]
  },
  {
   "cell_type": "code",
   "execution_count": 32,
   "metadata": {},
   "outputs": [],
   "source": [
    "from sklearn.feature_extraction.text import CountVectorizer, HashingVectorizer"
   ]
  },
  {
   "cell_type": "code",
   "execution_count": 33,
   "metadata": {},
   "outputs": [
    {
     "name": "stdout",
     "output_type": "stream",
     "text": [
      "X_train_1 matrix size is (20000, 15000), X_test_1 matrix size is (5000, 15000).\n"
     ]
    }
   ],
   "source": [
    "train_vocabulary = [pair[0] for pair in Counter(train_words).most_common(15000)]\n",
    "count_vectorizer_1 = CountVectorizer(stop_words='english', vocabulary=train_vocabulary)\n",
    "\n",
    "X_train_1 = count_vectorizer_1.fit_transform(X_train)\n",
    "X_test_1 = count_vectorizer_1.transform(X_test)\n",
    "\n",
    "print('X_train_1 matrix size is {}, X_test_1 matrix size is {}.'.format(X_train_1.shape, X_test_1.shape))"
   ]
  },
  {
   "cell_type": "code",
   "execution_count": 34,
   "metadata": {},
   "outputs": [
    {
     "name": "stdout",
     "output_type": "stream",
     "text": [
      "RandomForestClassifier(n_estimators=500, random_state=42) ROC AUC is 0.932\n",
      "LogisticRegression(max_iter=100000.0, random_state=42) ROC AUC is 0.938\n"
     ]
    }
   ],
   "source": [
    "rf_model_1 = RandomForestClassifier(n_estimators=500, random_state=SEED)\n",
    "lr_model_1 = LogisticRegression(max_iter=1e5, random_state=SEED)\n",
    "rf_model_1.fit(X_train_1, y_train)\n",
    "lr_model_1.fit(X_train_1, y_train)\n",
    "rf_pred_proba_1 = rf_model_1.predict_proba(X_test_1)\n",
    "lr_pred_proba_1 = lr_model_1.predict_proba(X_test_1)\n",
    "print(\"{} ROC AUC is {:.3f}\".format(rf_model_1, roc_auc_score(y_test, rf_pred_proba_1[:, 1])))\n",
    "print(\"{} ROC AUC is {:.3f}\".format(lr_model_1, roc_auc_score(y_test, lr_pred_proba_1[:, 1])))"
   ]
  },
  {
   "cell_type": "code",
   "execution_count": 35,
   "metadata": {},
   "outputs": [
    {
     "name": "stdout",
     "output_type": "stream",
     "text": [
      "X_train_2 matrix size is (20000, 15000), X_test_2 matrix size is (5000, 15000).\n"
     ]
    }
   ],
   "source": [
    "hashing_vectorizer = HashingVectorizer(stop_words='english', n_features=15000)\n",
    "\n",
    "X_train_2 = hashing_vectorizer.fit_transform(X_train)\n",
    "X_test_2 = hashing_vectorizer.transform(X_test)\n",
    "\n",
    "print('X_train_2 matrix size is {}, X_test_2 matrix size is {}.'.format(X_train_2.shape, X_test_2.shape))"
   ]
  },
  {
   "cell_type": "code",
   "execution_count": 36,
   "metadata": {},
   "outputs": [
    {
     "name": "stdout",
     "output_type": "stream",
     "text": [
      "RandomForestClassifier(n_estimators=500, random_state=42) ROC AUC is 0.929\n",
      "LogisticRegression(max_iter=100000.0, random_state=42) ROC AUC is 0.941\n"
     ]
    }
   ],
   "source": [
    "rf_model_2 = RandomForestClassifier(n_estimators=500, random_state=SEED)\n",
    "lr_model_2 = LogisticRegression(max_iter=1e5, random_state=SEED)\n",
    "rf_model_2.fit(X_train_2, y_train)\n",
    "lr_model_2.fit(X_train_2, y_train)\n",
    "rf_pred_proba_2 = rf_model_2.predict_proba(X_test_2)\n",
    "lr_pred_proba_2 = lr_model_2.predict_proba(X_test_2)\n",
    "print(\"{} ROC AUC is {:.3f}\".format(rf_model_2, roc_auc_score(y_test, rf_pred_proba_2[:, 1])))\n",
    "print(\"{} ROC AUC is {:.3f}\".format(lr_model_2, roc_auc_score(y_test, lr_pred_proba_2[:, 1])))"
   ]
  },
  {
   "cell_type": "code",
   "execution_count": 37,
   "metadata": {},
   "outputs": [
    {
     "name": "stdout",
     "output_type": "stream",
     "text": [
      "X_train_3 matrix size is (20000, 15000), X_test_3 matrix size is (5000, 15000).\n"
     ]
    }
   ],
   "source": [
    "rf_model_coefs = rf_model.feature_importances_\n",
    "important_feature_idx = (-rf_model_coefs).argsort()[:15000].tolist()\n",
    "important_vocabulary = count_vectorizer.get_feature_names_out()[important_feature_idx]\n",
    "count_vectorizer_2 = CountVectorizer(stop_words='english', vocabulary=important_vocabulary)\n",
    "\n",
    "X_train_3 = count_vectorizer_2.fit_transform(X_train)\n",
    "X_test_3 = count_vectorizer_2.transform(X_test)\n",
    "\n",
    "print('X_train_3 matrix size is {}, X_test_3 matrix size is {}.'.format(X_train_3.shape, X_test_3.shape))"
   ]
  },
  {
   "cell_type": "code",
   "execution_count": 38,
   "metadata": {},
   "outputs": [
    {
     "name": "stdout",
     "output_type": "stream",
     "text": [
      "RandomForestClassifier(n_estimators=500, random_state=42) ROC AUC is 0.932\n",
      "LogisticRegression(max_iter=100000.0, random_state=42) ROC AUC is 0.938\n"
     ]
    }
   ],
   "source": [
    "rf_model_3 = RandomForestClassifier(n_estimators=500, random_state=SEED)\n",
    "lr_model_3 = LogisticRegression(max_iter=1e5, random_state=SEED)\n",
    "rf_model_3.fit(X_train_3, y_train)\n",
    "lr_model_3.fit(X_train_3, y_train)\n",
    "rf_pred_proba_3 = rf_model_3.predict_proba(X_test_3)\n",
    "lr_pred_proba_3 = lr_model_3.predict_proba(X_test_3)\n",
    "print(\"{} ROC AUC is {:.3f}\".format(rf_model_3, roc_auc_score(y_test, rf_pred_proba_3[:, 1])))\n",
    "print(\"{} ROC AUC is {:.3f}\".format(lr_model_3, roc_auc_score(y_test, lr_pred_proba_3[:, 1])))"
   ]
  },
  {
   "cell_type": "markdown",
   "metadata": {},
   "source": [
    "In all cases the LogisticRegression model has a larger ROC AUC than the RandomForestClassifier model. The second method, using the HashingVectorizer, as we can see, is the best one."
   ]
  },
  {
   "cell_type": "markdown",
   "metadata": {},
   "source": [
    "**Task 1.7 [2 points] - Token Normalization**\n",
    "\n",
    "Choose the best working method from previous task. Try improve it by applying a token normalization technique.\n",
    "\n",
    "You may use one of normalizers imported below, but feel free to experiment.\n",
    "\n",
    "Do the following:\n",
    "- Apply normalizer to X_train, X_test\n",
    "- Build BOW with CountVectorizer + stopwords. What are the shapes of train and test matrices now?\n",
    "- Reduce dimensionality with the best method from Task 1.6. You may try all of them\n",
    "- Train LR/RF to examine whether ROC AUC or Accuracy was improved."
   ]
  },
  {
   "cell_type": "code",
   "execution_count": 39,
   "metadata": {},
   "outputs": [],
   "source": [
    "from nltk.stem import WordNetLemmatizer, PorterStemmer"
   ]
  },
  {
   "cell_type": "code",
   "execution_count": 40,
   "metadata": {},
   "outputs": [
    {
     "name": "stderr",
     "output_type": "stream",
     "text": [
      "[nltk_data] Downloading package wordnet to\n",
      "[nltk_data]     C:\\Users\\Evgenia\\AppData\\Roaming\\nltk_data...\n",
      "[nltk_data]   Package wordnet is already up-to-date!\n"
     ]
    },
    {
     "data": {
      "text/plain": [
       "True"
      ]
     },
     "execution_count": 40,
     "metadata": {},
     "output_type": "execute_result"
    }
   ],
   "source": [
    "nltk.download('wordnet')"
   ]
  },
  {
   "cell_type": "code",
   "execution_count": 41,
   "metadata": {},
   "outputs": [],
   "source": [
    "lemmatizer = WordNetLemmatizer()\n",
    "\n",
    "X_train_lemmatized = np.empty(X_train.shape, dtype=object)\n",
    "for i, review in enumerate(X_train):\n",
    "    X_train_lemmatized[i] = ' '.join([lemmatizer.lemmatize(word) for word in WhitespaceTokenizer().tokenize(review)])\n",
    "\n",
    "X_test_lemmatized = np.empty(X_test.shape, dtype=object)\n",
    "for i, review in enumerate(X_test):\n",
    "    X_test_lemmatized[i] = ' '.join([lemmatizer.lemmatize(word) for word in WhitespaceTokenizer().tokenize(review)])"
   ]
  },
  {
   "cell_type": "code",
   "execution_count": 42,
   "metadata": {},
   "outputs": [
    {
     "name": "stdout",
     "output_type": "stream",
     "text": [
      "X_train_lemmatized_0 matrix size is (20000, 66489), X_test_lemmatized_0 matrix size is (5000, 66489).\n"
     ]
    }
   ],
   "source": [
    "count_vectorizer_3 = CountVectorizer(stop_words='english')\n",
    "\n",
    "X_train_lemmatized_0 = count_vectorizer_3.fit_transform(X_train_lemmatized)\n",
    "X_test_lemmatized_0 = count_vectorizer_3.transform(X_test_lemmatized)\n",
    "\n",
    "print('X_train_lemmatized_0 matrix size is {}, X_test_lemmatized_0 matrix size is {}.'.format(X_train_lemmatized_0.shape, X_test_lemmatized_0.shape))"
   ]
  },
  {
   "cell_type": "code",
   "execution_count": 43,
   "metadata": {},
   "outputs": [
    {
     "name": "stdout",
     "output_type": "stream",
     "text": [
      "X_train_lemmatized_1 matrix size is (20000, 15000), X_test_lemmatized_1 matrix size is (5000, 15000).\n"
     ]
    }
   ],
   "source": [
    "hashing_vectorizer_1 = HashingVectorizer(stop_words='english', n_features=15000)\n",
    "\n",
    "X_train_lemmatized_1 = hashing_vectorizer_1.fit_transform(X_train_lemmatized)\n",
    "X_test_lemmatized_1 = hashing_vectorizer_1.transform(X_test_lemmatized)\n",
    "\n",
    "print('X_train_lemmatized_1 matrix size is {}, X_test_lemmatized_1 matrix size is {}.'.format(X_train_lemmatized_1.shape, X_test_lemmatized_1.shape))"
   ]
  },
  {
   "cell_type": "code",
   "execution_count": 44,
   "metadata": {},
   "outputs": [
    {
     "name": "stdout",
     "output_type": "stream",
     "text": [
      "RandomForestClassifier(n_estimators=500, random_state=42) ROC AUC is 0.929\n",
      "LogisticRegression(max_iter=100000.0, random_state=42) ROC AUC is 0.939\n"
     ]
    }
   ],
   "source": [
    "rf_model_4 = RandomForestClassifier(n_estimators=500, random_state=SEED)\n",
    "lr_model_4 = LogisticRegression(max_iter=1e5, random_state=SEED)\n",
    "rf_model_4.fit(X_train_lemmatized_1, y_train)\n",
    "lr_model_4.fit(X_train_lemmatized_1, y_train)\n",
    "rf_pred_proba_4 = rf_model_4.predict_proba(X_test_lemmatized_1)\n",
    "lr_pred_proba_4 = lr_model_4.predict_proba(X_test_lemmatized_1)\n",
    "print(\"{} ROC AUC is {:.3f}\".format(rf_model_4, roc_auc_score(y_test, rf_pred_proba_4[:, 1])))\n",
    "print(\"{} ROC AUC is {:.3f}\".format(lr_model_4, roc_auc_score(y_test, lr_pred_proba_4[:, 1])))"
   ]
  },
  {
   "cell_type": "markdown",
   "metadata": {},
   "source": [
    "As we can see, the ROC AUC has not been improved."
   ]
  },
  {
   "cell_type": "markdown",
   "metadata": {},
   "source": [
    "## Part 2. Word Embeddings [7 points]"
   ]
  },
  {
   "cell_type": "code",
   "execution_count": 45,
   "metadata": {},
   "outputs": [],
   "source": [
    "import gensim.downloader"
   ]
  },
  {
   "cell_type": "markdown",
   "metadata": {},
   "source": [
    "Here is the list of pretrained word embedding models. We suggest using `glove-wiki-gigaword-100`."
   ]
  },
  {
   "cell_type": "code",
   "execution_count": 46,
   "metadata": {},
   "outputs": [
    {
     "data": {
      "text/plain": [
       "['fasttext-wiki-news-subwords-300',\n",
       " 'conceptnet-numberbatch-17-06-300',\n",
       " 'word2vec-ruscorpora-300',\n",
       " 'word2vec-google-news-300',\n",
       " 'glove-wiki-gigaword-50',\n",
       " 'glove-wiki-gigaword-100',\n",
       " 'glove-wiki-gigaword-200',\n",
       " 'glove-wiki-gigaword-300',\n",
       " 'glove-twitter-25',\n",
       " 'glove-twitter-50',\n",
       " 'glove-twitter-100',\n",
       " 'glove-twitter-200',\n",
       " '__testing_word2vec-matrix-synopsis']"
      ]
     },
     "execution_count": 46,
     "metadata": {},
     "output_type": "execute_result"
    }
   ],
   "source": [
    "list(gensim.downloader.info()['models'].keys())"
   ]
  },
  {
   "cell_type": "code",
   "execution_count": 47,
   "metadata": {},
   "outputs": [],
   "source": [
    "word_embeddings = gensim.downloader.load(\"glove-wiki-gigaword-100\")"
   ]
  },
  {
   "cell_type": "markdown",
   "metadata": {},
   "source": [
    "**Task 2.1 [2 point] - WordEmbeddings Geometry**\n",
    "\n",
    "As you probably know, vector space of word embeddings has non-trivial geometry: some word relations (like country-capital or single-plural) can be represented by vectors, like: **(king - man) + woman = queen**\n",
    "\n",
    "<img src=\"https://linkme.ufanet.ru/images/5687a2011b49eb2413912f1c7d0fb0bd.png\" width=600px>\n",
    "\n",
    "Check this statement on words from the above picture with `word_embeddings.most_similar` function. Pay attention to `positive` and `negative` params.\n",
    "\n",
    "Provide **several** examples, make sure to present different relations: some for nouns, some for verbs."
   ]
  },
  {
   "cell_type": "code",
   "execution_count": 48,
   "metadata": {},
   "outputs": [
    {
     "name": "stdout",
     "output_type": "stream",
     "text": [
      "(king - man) + woman = queen\n",
      "(dogs - dog) + cat = cats\n",
      "(france - england) + london = paris\n",
      "(speak - see) + saw = spoke\n",
      "(dance - play) + playing = dancing\n",
      "(learn - learns) + train = trains\n",
      "(her - she) + he = his\n",
      "(horizontal - row) + column = vertical\n"
     ]
    }
   ],
   "source": [
    "def most_similar_word(positive1, positive2, negative):\n",
    "    print('({} - {}) + {} = {}'.format(positive1, negative, positive2, word_embeddings.most_similar(positive=[positive1, positive2], negative=[negative])[0][0]))\n",
    "\n",
    "most_similar_word('king', 'woman', 'man')\n",
    "most_similar_word('dogs', 'cat', 'dog')\n",
    "most_similar_word('france', 'london', 'england')\n",
    "most_similar_word('speak', 'saw', 'see')\n",
    "most_similar_word('dance', 'playing', 'play')\n",
    "most_similar_word('learn', 'train', 'learns')\n",
    "most_similar_word('her', 'he', 'she')\n",
    "most_similar_word('horizontal', 'column', 'row')"
   ]
  },
  {
   "cell_type": "markdown",
   "metadata": {},
   "source": [
    "It works! :)"
   ]
  },
  {
   "cell_type": "markdown",
   "metadata": {},
   "source": [
    "**Task 2.2 [2 point] - POS analysis**\n",
    "\n",
    "Use POS tagger to calculate most common POS in the dataset. \n",
    "Here you may read about nltk-taggers: [link](https://www.inf.ed.ac.uk/teaching/courses/icl/nltk/tagging.pdf)\n",
    "\n",
    "- If you were to design POS-related weights, how would you do it? \n",
    "- What POS would get the higher weight? "
   ]
  },
  {
   "cell_type": "code",
   "execution_count": 49,
   "metadata": {},
   "outputs": [],
   "source": [
    "from nltk import pos_tag\n",
    "from nltk.help import upenn_tagset"
   ]
  },
  {
   "cell_type": "code",
   "execution_count": 50,
   "metadata": {},
   "outputs": [
    {
     "name": "stderr",
     "output_type": "stream",
     "text": [
      "[nltk_data] Downloading package averaged_perceptron_tagger to\n",
      "[nltk_data]     C:\\Users\\Evgenia\\AppData\\Roaming\\nltk_data...\n",
      "[nltk_data]   Package averaged_perceptron_tagger is already up-to-\n",
      "[nltk_data]       date!\n"
     ]
    },
    {
     "data": {
      "text/plain": [
       "True"
      ]
     },
     "execution_count": 50,
     "metadata": {},
     "output_type": "execute_result"
    }
   ],
   "source": [
    "nltk.download('averaged_perceptron_tagger')"
   ]
  },
  {
   "cell_type": "code",
   "execution_count": 51,
   "metadata": {},
   "outputs": [],
   "source": [
    "pos_list = []\n",
    "for review in X_train:\n",
    "    pos_list += [pair[1] for pair in pos_tag(WhitespaceTokenizer().tokenize(review))]"
   ]
  },
  {
   "cell_type": "code",
   "execution_count": 52,
   "metadata": {},
   "outputs": [
    {
     "data": {
      "text/plain": [
       "[('NN', 784409),\n",
       " ('IN', 527595),\n",
       " ('DT', 518809),\n",
       " ('NNP', 432905),\n",
       " ('JJ', 405860),\n",
       " ('RB', 250879),\n",
       " ('PRP', 205984),\n",
       " ('VBZ', 193231),\n",
       " ('CC', 176845),\n",
       " ('VB', 175119),\n",
       " ('NNS', 149679),\n",
       " ('VBD', 135740),\n",
       " ('VBP', 122013),\n",
       " ('TO', 107197),\n",
       " ('VBG', 85143),\n",
       " ('VBN', 84701),\n",
       " ('PRP$', 65104),\n",
       " ('CD', 48655),\n",
       " ('MD', 42607),\n",
       " ('WP', 27723),\n",
       " ('WRB', 25786),\n",
       " ('WDT', 25159),\n",
       " ('RP', 20494),\n",
       " ('JJS', 14110),\n",
       " ('JJR', 13034),\n",
       " ('EX', 9794),\n",
       " (':', 9422),\n",
       " ('RBR', 7973),\n",
       " ('PDT', 7128),\n",
       " ('RBS', 3913),\n",
       " ('.', 2002),\n",
       " ('NNPS', 1914),\n",
       " ('FW', 1803),\n",
       " ('POS', 1242),\n",
       " ('WP$', 753),\n",
       " (',', 687),\n",
       " ('SYM', 299),\n",
       " ('(', 287),\n",
       " (\"''\", 237),\n",
       " ('$', 212),\n",
       " ('UH', 167),\n",
       " (')', 149),\n",
       " ('#', 10),\n",
       " ('LS', 4),\n",
       " ('``', 3)]"
      ]
     },
     "execution_count": 52,
     "metadata": {},
     "output_type": "execute_result"
    }
   ],
   "source": [
    "pos_counts = Counter(pos_list).most_common()\n",
    "pos_counts"
   ]
  },
  {
   "cell_type": "code",
   "execution_count": 53,
   "metadata": {},
   "outputs": [
    {
     "name": "stderr",
     "output_type": "stream",
     "text": [
      "[nltk_data] Downloading package tagsets to\n",
      "[nltk_data]     C:\\Users\\Evgenia\\AppData\\Roaming\\nltk_data...\n",
      "[nltk_data]   Package tagsets is already up-to-date!\n"
     ]
    },
    {
     "data": {
      "text/plain": [
       "True"
      ]
     },
     "execution_count": 53,
     "metadata": {},
     "output_type": "execute_result"
    }
   ],
   "source": [
    "nltk.download('tagsets')"
   ]
  },
  {
   "cell_type": "code",
   "execution_count": 54,
   "metadata": {},
   "outputs": [
    {
     "name": "stdout",
     "output_type": "stream",
     "text": [
      "NN: noun, common, singular or mass\n",
      "    common-carrier cabbage knuckle-duster Casino afghan shed thermostat\n",
      "    investment slide humour falloff slick wind hyena override subhumanity\n",
      "    machinist ...\n",
      "IN: preposition or conjunction, subordinating\n",
      "    astride among uppon whether out inside pro despite on by throughout\n",
      "    below within for towards near behind atop around if like until below\n",
      "    next into if beside ...\n",
      "DT: determiner\n",
      "    all an another any both del each either every half la many much nary\n",
      "    neither no some such that the them these this those\n",
      "NNP: noun, proper, singular\n",
      "    Motown Venneboerger Czestochwa Ranzer Conchita Trumplane Christos\n",
      "    Oceanside Escobar Kreisler Sawyer Cougar Yvette Ervin ODI Darryl CTCA\n",
      "    Shannon A.K.C. Meltex Liverpool ...\n",
      "JJ: adjective or numeral, ordinal\n",
      "    third ill-mannered pre-war regrettable oiled calamitous first separable\n",
      "    ectoplasmic battery-powered participatory fourth still-to-be-named\n",
      "    multilingual multi-disciplinary ...\n",
      "RB: adverb\n",
      "    occasionally unabatingly maddeningly adventurously professedly\n",
      "    stirringly prominently technologically magisterially predominately\n",
      "    swiftly fiscally pitilessly ...\n",
      "PRP: pronoun, personal\n",
      "    hers herself him himself hisself it itself me myself one oneself ours\n",
      "    ourselves ownself self she thee theirs them themselves they thou thy us\n",
      "VBZ: verb, present tense, 3rd person singular\n",
      "    bases reconstructs marks mixes displeases seals carps weaves snatches\n",
      "    slumps stretches authorizes smolders pictures emerges stockpiles\n",
      "    seduces fizzes uses bolsters slaps speaks pleads ...\n",
      "CC: conjunction, coordinating\n",
      "    & 'n and both but either et for less minus neither nor or plus so\n",
      "    therefore times v. versus vs. whether yet\n",
      "VB: verb, base form\n",
      "    ask assemble assess assign assume atone attention avoid bake balkanize\n",
      "    bank begin behold believe bend benefit bevel beware bless boil bomb\n",
      "    boost brace break bring broil brush build ...\n",
      "NNS: noun, common, plural\n",
      "    undergraduates scotches bric-a-brac products bodyguards facets coasts\n",
      "    divestitures storehouses designs clubs fragrances averages\n",
      "    subjectivists apprehensions muses factory-jobs ...\n",
      "VBD: verb, past tense\n",
      "    dipped pleaded swiped regummed soaked tidied convened halted registered\n",
      "    cushioned exacted snubbed strode aimed adopted belied figgered\n",
      "    speculated wore appreciated contemplated ...\n",
      "VBP: verb, present tense, not 3rd person singular\n",
      "    predominate wrap resort sue twist spill cure lengthen brush terminate\n",
      "    appear tend stray glisten obtain comprise detest tease attract\n",
      "    emphasize mold postpone sever return wag ...\n",
      "TO: \"to\" as preposition or infinitive marker\n",
      "    to\n",
      "VBG: verb, present participle or gerund\n",
      "    telegraphing stirring focusing angering judging stalling lactating\n",
      "    hankerin' alleging veering capping approaching traveling besieging\n",
      "    encrypting interrupting erasing wincing ...\n",
      "VBN: verb, past participle\n",
      "    multihulled dilapidated aerosolized chaired languished panelized used\n",
      "    experimented flourished imitated reunifed factored condensed sheared\n",
      "    unsettled primed dubbed desired ...\n",
      "PRP$: pronoun, possessive\n",
      "    her his mine my our ours their thy your\n",
      "CD: numeral, cardinal\n",
      "    mid-1890 nine-thirty forty-two one-tenth ten million 0.5 one forty-\n",
      "    seven 1987 twenty '79 zero two 78-degrees eighty-four IX '60s .025\n",
      "    fifteen 271,124 dozen quintillion DM2,000 ...\n",
      "MD: modal auxiliary\n",
      "    can cannot could couldn't dare may might must need ought shall should\n",
      "    shouldn't will would\n",
      "WP: WH-pronoun\n",
      "    that what whatever whatsoever which who whom whosoever\n",
      "WRB: Wh-adverb\n",
      "    how however whence whenever where whereby whereever wherein whereof why\n",
      "WDT: WH-determiner\n",
      "    that what whatever which whichever\n",
      "RP: particle\n",
      "    aboard about across along apart around aside at away back before behind\n",
      "    by crop down ever fast for forth from go high i.e. in into just later\n",
      "    low more off on open out over per pie raising start teeth that through\n",
      "    under unto up up-pp upon whole with you\n",
      "JJS: adjective, superlative\n",
      "    calmest cheapest choicest classiest cleanest clearest closest commonest\n",
      "    corniest costliest crassest creepiest crudest cutest darkest deadliest\n",
      "    dearest deepest densest dinkiest ...\n",
      "JJR: adjective, comparative\n",
      "    bleaker braver breezier briefer brighter brisker broader bumper busier\n",
      "    calmer cheaper choosier cleaner clearer closer colder commoner costlier\n",
      "    cozier creamier crunchier cuter ...\n",
      "EX: existential there\n",
      "    there\n",
      ":: colon or ellipsis\n",
      "    : ; ...\n",
      "RBR: adverb, comparative\n",
      "    further gloomier grander graver greater grimmer harder harsher\n",
      "    healthier heavier higher however larger later leaner lengthier less-\n",
      "    perfectly lesser lonelier longer louder lower more ...\n",
      "PDT: pre-determiner\n",
      "    all both half many quite such sure this\n",
      "RBS: adverb, superlative\n",
      "    best biggest bluntest earliest farthest first furthest hardest\n",
      "    heartiest highest largest least less most nearest second tightest worst\n",
      ".: sentence terminator\n",
      "    . ! ?\n",
      "NNPS: noun, proper, plural\n",
      "    Americans Americas Amharas Amityvilles Amusements Anarcho-Syndicalists\n",
      "    Andalusians Andes Andruses Angels Animals Anthony Antilles Antiques\n",
      "    Apache Apaches Apocrypha ...\n",
      "FW: foreign word\n",
      "    gemeinschaft hund ich jeux habeas Haementeria Herr K'ang-si vous\n",
      "    lutihaw alai je jour objets salutaris fille quibusdam pas trop Monte\n",
      "    terram fiche oui corporis ...\n",
      "POS: genitive marker\n",
      "    ' 's\n",
      "WP$: WH-pronoun, possessive\n",
      "    whose\n",
      ",: comma\n",
      "    ,\n",
      "SYM: symbol\n",
      "    % & ' '' ''. ) ). * + ,. < = > @ A[fj] U.S U.S.S.R * ** ***\n",
      "(: opening parenthesis\n",
      "    ( [ {\n",
      "'': closing quotation mark\n",
      "    ' ''\n",
      "$: dollar\n",
      "    $ -$ --$ A$ C$ HK$ M$ NZ$ S$ U.S.$ US$\n",
      "UH: interjection\n",
      "    Goodbye Goody Gosh Wow Jeepers Jee-sus Hubba Hey Kee-reist Oops amen\n",
      "    huh howdy uh dammit whammo shucks heck anyways whodunnit honey golly\n",
      "    man baby diddle hush sonuvabitch ...\n",
      "): closing parenthesis\n",
      "    ) ] }\n",
      "No matching tags found.\n",
      "LS: list item marker\n",
      "    A A. B B. C C. D E F First G H I J K One SP-44001 SP-44002 SP-44005\n",
      "    SP-44007 Second Third Three Two * a b c d first five four one six three\n",
      "    two\n",
      "``: opening quotation mark\n",
      "    ` ``\n"
     ]
    }
   ],
   "source": [
    "for pair in pos_counts:\n",
    "    upenn_tagset(pair[0])"
   ]
  },
  {
   "cell_type": "markdown",
   "metadata": {},
   "source": [
    "If I were developing POS-related weights, I would rely on assumptions about the meaningfulness of parts of speech. I would assign the highest weights to adjectives, nouns, and verbs as the most meaningful parts of speech."
   ]
  },
  {
   "cell_type": "markdown",
   "metadata": {},
   "source": [
    "**Task 2.3 [3 points] - WordEmbeddings**\n",
    "\n",
    "Use dense vector representations to construct vector-representation of each review, then train a model (LR or RF).\n",
    "\n",
    "Compare results of the new model to results of the models above.\n",
    "**Important**\n",
    "- If you just sum embeddings of each token to get an embedding of the whole review, the cost of the task is **[2 points]**\n",
    "- For **[3 points]** you have to use either TF-IDF weight or weights that you designed from POS tags."
   ]
  },
  {
   "cell_type": "code",
   "execution_count": 55,
   "metadata": {},
   "outputs": [],
   "source": [
    "from sklearn.feature_extraction.text import TfidfVectorizer"
   ]
  },
  {
   "cell_type": "code",
   "execution_count": 56,
   "metadata": {},
   "outputs": [],
   "source": [
    "tfidf_vectorizer = TfidfVectorizer(stop_words='english')\n",
    "\n",
    "X_train_vectorized = tfidf_vectorizer.fit_transform(X_train)\n",
    "X_test_vectorized = tfidf_vectorizer.transform(X_test)"
   ]
  },
  {
   "cell_type": "code",
   "execution_count": 57,
   "metadata": {},
   "outputs": [
    {
     "name": "stdout",
     "output_type": "stream",
     "text": [
      "LogisticRegression(max_iter=100000.0, random_state=42) ROC AUC is 0.956\n"
     ]
    }
   ],
   "source": [
    "lr_model_5 = LogisticRegression(max_iter=1e5, random_state=SEED)\n",
    "lr_model_5.fit(X_train_vectorized, y_train)\n",
    "lr_pred_proba_5 = lr_model_5.predict_proba(X_test_vectorized)\n",
    "print(\"{} ROC AUC is {:.3f}\".format(lr_model_5, roc_auc_score(y_test, lr_pred_proba_5[:, 1])))"
   ]
  },
  {
   "cell_type": "markdown",
   "metadata": {},
   "source": [
    "The LogisticRegression model's ROC AUC has been improved."
   ]
  }
 ],
 "metadata": {
  "interpreter": {
   "hash": "93a6a9b76bfd63e02ab1b2bd2e6bc5ff501c9330c8c8db6caa76d3262061148d"
  },
  "kernelspec": {
   "display_name": "Python 3.8.7 64-bit ('venv': venv)",
   "name": "python3"
  },
  "language_info": {
   "codemirror_mode": {
    "name": "ipython",
    "version": 3
   },
   "file_extension": ".py",
   "mimetype": "text/x-python",
   "name": "python",
   "nbconvert_exporter": "python",
   "pygments_lexer": "ipython3",
   "version": "3.8.7"
  }
 },
 "nbformat": 4,
 "nbformat_minor": 4
}
